{
 "cells": [
  {
   "cell_type": "code",
   "execution_count": 1,
   "id": "3c712771-1af9-47f0-a767-2917bdbf2a69",
   "metadata": {},
   "outputs": [],
   "source": [
    "import numpy as np\n",
    "import pandas as pd\n",
    "import seaborn as sns\n",
    "import matplotlib.pyplot as plt"
   ]
  },
  {
   "cell_type": "markdown",
   "id": "88469d4b-9c4b-4546-8b7a-42d6519706b9",
   "metadata": {},
   "source": [
    "<h1>  DATASET"
   ]
  },
  {
   "cell_type": "code",
   "execution_count": 2,
   "id": "d6effbf0-38d0-49a3-bb4f-79a00ee5060c",
   "metadata": {},
   "outputs": [
    {
     "data": {
      "text/html": [
       "<div>\n",
       "<style scoped>\n",
       "    .dataframe tbody tr th:only-of-type {\n",
       "        vertical-align: middle;\n",
       "    }\n",
       "\n",
       "    .dataframe tbody tr th {\n",
       "        vertical-align: top;\n",
       "    }\n",
       "\n",
       "    .dataframe thead th {\n",
       "        text-align: right;\n",
       "    }\n",
       "</style>\n",
       "<table border=\"1\" class=\"dataframe\">\n",
       "  <thead>\n",
       "    <tr style=\"text-align: right;\">\n",
       "      <th></th>\n",
       "      <th>video_id</th>\n",
       "      <th>trending_date</th>\n",
       "      <th>title</th>\n",
       "      <th>channel_title</th>\n",
       "      <th>category_id</th>\n",
       "      <th>publish_time</th>\n",
       "      <th>tags</th>\n",
       "      <th>views</th>\n",
       "      <th>likes</th>\n",
       "      <th>dislikes</th>\n",
       "      <th>comment_count</th>\n",
       "      <th>thumbnail_link</th>\n",
       "      <th>comments_disabled</th>\n",
       "      <th>ratings_disabled</th>\n",
       "      <th>video_error_or_removed</th>\n",
       "      <th>description</th>\n",
       "    </tr>\n",
       "  </thead>\n",
       "  <tbody>\n",
       "    <tr>\n",
       "      <th>0</th>\n",
       "      <td>2kyS6SvSYSE</td>\n",
       "      <td>17.14.11</td>\n",
       "      <td>WE WANT TO TALK ABOUT OUR MARRIAGE</td>\n",
       "      <td>CaseyNeistat</td>\n",
       "      <td>22</td>\n",
       "      <td>2017-11-13T17:13:01.000Z</td>\n",
       "      <td>SHANtell martin</td>\n",
       "      <td>748374</td>\n",
       "      <td>57527</td>\n",
       "      <td>2966</td>\n",
       "      <td>15954</td>\n",
       "      <td>https://i.ytimg.com/vi/2kyS6SvSYSE/default.jpg</td>\n",
       "      <td>False</td>\n",
       "      <td>False</td>\n",
       "      <td>False</td>\n",
       "      <td>SHANTELL'S CHANNEL - https://www.youtube.com/s...</td>\n",
       "    </tr>\n",
       "    <tr>\n",
       "      <th>1</th>\n",
       "      <td>1ZAPwfrtAFY</td>\n",
       "      <td>17.14.11</td>\n",
       "      <td>The Trump Presidency: Last Week Tonight with J...</td>\n",
       "      <td>LastWeekTonight</td>\n",
       "      <td>24</td>\n",
       "      <td>2017-11-13T07:30:00.000Z</td>\n",
       "      <td>last week tonight trump presidency|\"last week ...</td>\n",
       "      <td>2418783</td>\n",
       "      <td>97185</td>\n",
       "      <td>6146</td>\n",
       "      <td>12703</td>\n",
       "      <td>https://i.ytimg.com/vi/1ZAPwfrtAFY/default.jpg</td>\n",
       "      <td>False</td>\n",
       "      <td>False</td>\n",
       "      <td>False</td>\n",
       "      <td>One year after the presidential election, John...</td>\n",
       "    </tr>\n",
       "    <tr>\n",
       "      <th>2</th>\n",
       "      <td>5qpjK5DgCt4</td>\n",
       "      <td>17.14.11</td>\n",
       "      <td>Racist Superman | Rudy Mancuso, King Bach &amp; Le...</td>\n",
       "      <td>Rudy Mancuso</td>\n",
       "      <td>23</td>\n",
       "      <td>2017-11-12T19:05:24.000Z</td>\n",
       "      <td>racist superman|\"rudy\"|\"mancuso\"|\"king\"|\"bach\"...</td>\n",
       "      <td>3191434</td>\n",
       "      <td>146033</td>\n",
       "      <td>5339</td>\n",
       "      <td>8181</td>\n",
       "      <td>https://i.ytimg.com/vi/5qpjK5DgCt4/default.jpg</td>\n",
       "      <td>False</td>\n",
       "      <td>False</td>\n",
       "      <td>False</td>\n",
       "      <td>WATCH MY PREVIOUS VIDEO ▶ \\n\\nSUBSCRIBE ► http...</td>\n",
       "    </tr>\n",
       "    <tr>\n",
       "      <th>3</th>\n",
       "      <td>puqaWrEC7tY</td>\n",
       "      <td>17.14.11</td>\n",
       "      <td>Nickelback Lyrics: Real or Fake?</td>\n",
       "      <td>Good Mythical Morning</td>\n",
       "      <td>24</td>\n",
       "      <td>2017-11-13T11:00:04.000Z</td>\n",
       "      <td>rhett and link|\"gmm\"|\"good mythical morning\"|\"...</td>\n",
       "      <td>343168</td>\n",
       "      <td>10172</td>\n",
       "      <td>666</td>\n",
       "      <td>2146</td>\n",
       "      <td>https://i.ytimg.com/vi/puqaWrEC7tY/default.jpg</td>\n",
       "      <td>False</td>\n",
       "      <td>False</td>\n",
       "      <td>False</td>\n",
       "      <td>Today we find out if Link is a Nickelback amat...</td>\n",
       "    </tr>\n",
       "    <tr>\n",
       "      <th>4</th>\n",
       "      <td>d380meD0W0M</td>\n",
       "      <td>17.14.11</td>\n",
       "      <td>I Dare You: GOING BALD!?</td>\n",
       "      <td>nigahiga</td>\n",
       "      <td>24</td>\n",
       "      <td>2017-11-12T18:01:41.000Z</td>\n",
       "      <td>ryan|\"higa\"|\"higatv\"|\"nigahiga\"|\"i dare you\"|\"...</td>\n",
       "      <td>2095731</td>\n",
       "      <td>132235</td>\n",
       "      <td>1989</td>\n",
       "      <td>17518</td>\n",
       "      <td>https://i.ytimg.com/vi/d380meD0W0M/default.jpg</td>\n",
       "      <td>False</td>\n",
       "      <td>False</td>\n",
       "      <td>False</td>\n",
       "      <td>I know it's been a while since we did this sho...</td>\n",
       "    </tr>\n",
       "  </tbody>\n",
       "</table>\n",
       "</div>"
      ],
      "text/plain": [
       "      video_id trending_date  \\\n",
       "0  2kyS6SvSYSE      17.14.11   \n",
       "1  1ZAPwfrtAFY      17.14.11   \n",
       "2  5qpjK5DgCt4      17.14.11   \n",
       "3  puqaWrEC7tY      17.14.11   \n",
       "4  d380meD0W0M      17.14.11   \n",
       "\n",
       "                                               title          channel_title  \\\n",
       "0                 WE WANT TO TALK ABOUT OUR MARRIAGE           CaseyNeistat   \n",
       "1  The Trump Presidency: Last Week Tonight with J...        LastWeekTonight   \n",
       "2  Racist Superman | Rudy Mancuso, King Bach & Le...           Rudy Mancuso   \n",
       "3                   Nickelback Lyrics: Real or Fake?  Good Mythical Morning   \n",
       "4                           I Dare You: GOING BALD!?               nigahiga   \n",
       "\n",
       "   category_id              publish_time  \\\n",
       "0           22  2017-11-13T17:13:01.000Z   \n",
       "1           24  2017-11-13T07:30:00.000Z   \n",
       "2           23  2017-11-12T19:05:24.000Z   \n",
       "3           24  2017-11-13T11:00:04.000Z   \n",
       "4           24  2017-11-12T18:01:41.000Z   \n",
       "\n",
       "                                                tags    views   likes  \\\n",
       "0                                    SHANtell martin   748374   57527   \n",
       "1  last week tonight trump presidency|\"last week ...  2418783   97185   \n",
       "2  racist superman|\"rudy\"|\"mancuso\"|\"king\"|\"bach\"...  3191434  146033   \n",
       "3  rhett and link|\"gmm\"|\"good mythical morning\"|\"...   343168   10172   \n",
       "4  ryan|\"higa\"|\"higatv\"|\"nigahiga\"|\"i dare you\"|\"...  2095731  132235   \n",
       "\n",
       "   dislikes  comment_count                                  thumbnail_link  \\\n",
       "0      2966          15954  https://i.ytimg.com/vi/2kyS6SvSYSE/default.jpg   \n",
       "1      6146          12703  https://i.ytimg.com/vi/1ZAPwfrtAFY/default.jpg   \n",
       "2      5339           8181  https://i.ytimg.com/vi/5qpjK5DgCt4/default.jpg   \n",
       "3       666           2146  https://i.ytimg.com/vi/puqaWrEC7tY/default.jpg   \n",
       "4      1989          17518  https://i.ytimg.com/vi/d380meD0W0M/default.jpg   \n",
       "\n",
       "   comments_disabled  ratings_disabled  video_error_or_removed  \\\n",
       "0              False             False                   False   \n",
       "1              False             False                   False   \n",
       "2              False             False                   False   \n",
       "3              False             False                   False   \n",
       "4              False             False                   False   \n",
       "\n",
       "                                         description  \n",
       "0  SHANTELL'S CHANNEL - https://www.youtube.com/s...  \n",
       "1  One year after the presidential election, John...  \n",
       "2  WATCH MY PREVIOUS VIDEO ▶ \\n\\nSUBSCRIBE ► http...  \n",
       "3  Today we find out if Link is a Nickelback amat...  \n",
       "4  I know it's been a while since we did this sho...  "
      ]
     },
     "execution_count": 2,
     "metadata": {},
     "output_type": "execute_result"
    }
   ],
   "source": [
    "df = pd.read_csv('Dataset1A.csv')\n",
    "df.head()"
   ]
  },
  {
   "cell_type": "markdown",
   "id": "fc5a8eb2-d126-46b4-a62a-695310e87a1e",
   "metadata": {},
   "source": [
    "<h1> Ukuran Pusat"
   ]
  },
  {
   "cell_type": "code",
   "execution_count": 3,
   "id": "2ce94dd8-bafe-42f0-963e-914a3067e196",
   "metadata": {},
   "outputs": [
    {
     "data": {
      "text/html": [
       "<div>\n",
       "<style scoped>\n",
       "    .dataframe tbody tr th:only-of-type {\n",
       "        vertical-align: middle;\n",
       "    }\n",
       "\n",
       "    .dataframe tbody tr th {\n",
       "        vertical-align: top;\n",
       "    }\n",
       "\n",
       "    .dataframe thead th {\n",
       "        text-align: right;\n",
       "    }\n",
       "</style>\n",
       "<table border=\"1\" class=\"dataframe\">\n",
       "  <thead>\n",
       "    <tr style=\"text-align: right;\">\n",
       "      <th></th>\n",
       "      <th>video_id</th>\n",
       "      <th>views</th>\n",
       "      <th>likes</th>\n",
       "      <th>dislikes</th>\n",
       "    </tr>\n",
       "  </thead>\n",
       "  <tbody>\n",
       "    <tr>\n",
       "      <th>0</th>\n",
       "      <td>2kyS6SvSYSE</td>\n",
       "      <td>748374</td>\n",
       "      <td>57527</td>\n",
       "      <td>2966</td>\n",
       "    </tr>\n",
       "    <tr>\n",
       "      <th>1</th>\n",
       "      <td>1ZAPwfrtAFY</td>\n",
       "      <td>2418783</td>\n",
       "      <td>97185</td>\n",
       "      <td>6146</td>\n",
       "    </tr>\n",
       "    <tr>\n",
       "      <th>2</th>\n",
       "      <td>5qpjK5DgCt4</td>\n",
       "      <td>3191434</td>\n",
       "      <td>146033</td>\n",
       "      <td>5339</td>\n",
       "    </tr>\n",
       "    <tr>\n",
       "      <th>3</th>\n",
       "      <td>puqaWrEC7tY</td>\n",
       "      <td>343168</td>\n",
       "      <td>10172</td>\n",
       "      <td>666</td>\n",
       "    </tr>\n",
       "    <tr>\n",
       "      <th>4</th>\n",
       "      <td>d380meD0W0M</td>\n",
       "      <td>2095731</td>\n",
       "      <td>132235</td>\n",
       "      <td>1989</td>\n",
       "    </tr>\n",
       "  </tbody>\n",
       "</table>\n",
       "</div>"
      ],
      "text/plain": [
       "      video_id    views   likes  dislikes\n",
       "0  2kyS6SvSYSE   748374   57527      2966\n",
       "1  1ZAPwfrtAFY  2418783   97185      6146\n",
       "2  5qpjK5DgCt4  3191434  146033      5339\n",
       "3  puqaWrEC7tY   343168   10172       666\n",
       "4  d380meD0W0M  2095731  132235      1989"
      ]
     },
     "execution_count": 3,
     "metadata": {},
     "output_type": "execute_result"
    }
   ],
   "source": [
    "stats = df[['video_id','views', 'likes', 'dislikes']]\n",
    "stats.head()"
   ]
  },
  {
   "cell_type": "code",
   "execution_count": 4,
   "id": "22774c25-8c67-473f-954c-8f01cab664c4",
   "metadata": {},
   "outputs": [],
   "source": [
    "mean_views = stats['views'].mean()\n",
    "mean_likes = stats['likes'].mean()\n",
    "mean_dislikes = stats['dislikes'].mean()\n",
    "\n",
    "median_views = stats['views'].median()\n",
    "median_likes = stats['likes'].median()\n",
    "median_dislikes = stats['dislikes'].mean()\n",
    "\n",
    "mode_views = stats['views'].mode()[0]\n",
    "mode_likes = stats['likes'].mode()[0]\n",
    "mode_dislikes = stats['dislikes'].mode()[0]"
   ]
  },
  {
   "cell_type": "code",
   "execution_count": 5,
   "id": "671127f4-4a3e-4e07-aa40-89bca08d444c",
   "metadata": {},
   "outputs": [
    {
     "name": "stdout",
     "output_type": "stream",
     "text": [
      "Mean of \n",
      "Views: 2360784.6382573447\n",
      "Likes: 74266.7024347359\n",
      "Dislikes: 3711.400888910596\n",
      "\n",
      "Median of \n",
      "Views: 681861.0\n",
      "Likes: 18091.0\n",
      "Dislikes: 3711.400888910596\n",
      "\n",
      "Mode of \n",
      "Views: 2078\n",
      "Likes: 0\n",
      "Dislikes: 0\n"
     ]
    }
   ],
   "source": [
    "print(\"Mean of \\nViews: {}\\nLikes: {}\\nDislikes: {}\".format(mean_views, mean_likes, mean_dislikes))\n",
    "print()\n",
    "print(\"Median of \\nViews: {}\\nLikes: {}\\nDislikes: {}\".format(median_views, median_likes, median_dislikes))\n",
    "print()\n",
    "print(\"Mode of \\nViews: {}\\nLikes: {}\\nDislikes: {}\".format(mode_views, mode_likes, mode_dislikes))"
   ]
  },
  {
   "cell_type": "markdown",
   "id": "add74572-2e7c-40b3-b68a-cf5716df457f",
   "metadata": {},
   "source": [
    "<h1> Ukuran Variasi"
   ]
  },
  {
   "cell_type": "code",
   "execution_count": 6,
   "id": "3dc9c5fe-dbb4-4806-bb82-81e5e6144524",
   "metadata": {},
   "outputs": [],
   "source": [
    "std_views = stats['views'].std(skipna = True)\n",
    "std_likes = stats['likes'].std(skipna = True)\n",
    "std_dislikes = stats['dislikes'].std(skipna = True)"
   ]
  },
  {
   "cell_type": "code",
   "execution_count": 7,
   "id": "758af743-4d47-463d-a6f4-e0dd431e121d",
   "metadata": {},
   "outputs": [
    {
     "name": "stdout",
     "output_type": "stream",
     "text": [
      "Standard Deviation of \n",
      "Views: 7394113.75970394\n",
      "Likes: 228885.33820949917\n",
      "Dislikes: 29029.7059450018\n"
     ]
    }
   ],
   "source": [
    "print(\"Standard Deviation of \\nViews: {}\\nLikes: {}\\nDislikes: {}\".format(std_views, std_likes, std_dislikes))"
   ]
  },
  {
   "cell_type": "markdown",
   "id": "fff13365-2984-4f6d-b0c5-d63c424d9d9e",
   "metadata": {},
   "source": [
    "<h1> Ukuran Lokasi "
   ]
  },
  {
   "cell_type": "code",
   "execution_count": 8,
   "id": "a12c0964-d77e-4996-b565-8f35a21d808e",
   "metadata": {},
   "outputs": [],
   "source": [
    "loc_views = stats['views'].quantile([0.25,0.5,0.75])\n",
    "loc_likes = stats['likes'].quantile([0.25,0.5,0.75])\n",
    "loc_dislikes = stats['dislikes'].quantile([0.25,0.5,0.75])"
   ]
  },
  {
   "cell_type": "code",
   "execution_count": 9,
   "id": "f7362b83-401b-4ba5-9777-229c384d14ab",
   "metadata": {},
   "outputs": [
    {
     "name": "stdout",
     "output_type": "stream",
     "text": [
      "Quartiles of \n",
      "Views:\n",
      "0.25     242329.0\n",
      "0.50     681861.0\n",
      "0.75    1823157.0\n",
      "Name: views, dtype: float64\n",
      "Likes:\n",
      "0.25     5424.0\n",
      "0.50    18091.0\n",
      "0.75    55417.0\n",
      "Name: likes, dtype: float64\n",
      "Dislikes:\n",
      "0.25     202.0\n",
      "0.50     631.0\n",
      "0.75    1938.0\n",
      "Name: dislikes, dtype: float64\n"
     ]
    }
   ],
   "source": [
    "print(\"Quartiles of \\nViews:\\n{}\\nLikes:\\n{}\\nDislikes:\\n{}\".format(loc_views, loc_likes, loc_dislikes))"
   ]
  },
  {
   "cell_type": "code",
   "execution_count": 10,
   "id": "9fb63fb9-765f-4a67-922f-d87716081cf4",
   "metadata": {},
   "outputs": [],
   "source": [
    "q1views, q3views = np.percentile(stats['views'], 25), np.percentile(stats['views'], 75)\n",
    "q1likes, q3likes = np.percentile(stats['likes'], 25), np.percentile(stats['likes'], 75)\n",
    "q1dislikes, q3dislikes = np.percentile(stats['dislikes'], 25), np.percentile(stats['dislikes'], 75)"
   ]
  },
  {
   "cell_type": "code",
   "execution_count": 14,
   "id": "02de7b66-626f-4f72-93b2-ad41240b402c",
   "metadata": {},
   "outputs": [],
   "source": [
    "iqr_views = q3views - q1views\n",
    "iqr_likes = q3likes - q1likes\n",
    "iqr_dislikes = q3dislikes - q1dislikes"
   ]
  },
  {
   "cell_type": "code",
   "execution_count": 15,
   "id": "559e3e2f-ab59-4ac4-ba88-3c3d8c83eb44",
   "metadata": {},
   "outputs": [
    {
     "name": "stdout",
     "output_type": "stream",
     "text": [
      "IQR of \n",
      "Views: 1580828.0\n",
      "Likes: 49993.0\n",
      "Dislikes: 1736.0\n"
     ]
    }
   ],
   "source": [
    "print(\"IQR of \\nViews: {}\\nLikes: {}\\nDislikes: {}\".format(iqr_views, iqr_likes, iqr_dislikes))"
   ]
  },
  {
   "cell_type": "code",
   "execution_count": 16,
   "id": "6479381b-450e-45f7-b955-a0837f5cf284",
   "metadata": {},
   "outputs": [],
   "source": [
    "outliers_val_views = 1.5 * iqr_views\n",
    "outliers_val_likes = 1.5 * iqr_likes\n",
    "outliers_val_dislikes = 1.5 * iqr_dislikes"
   ]
  },
  {
   "cell_type": "code",
   "execution_count": 17,
   "id": "63f63cab-8506-45ab-b8f6-b48b343a6f07",
   "metadata": {},
   "outputs": [],
   "source": [
    "high_view = q3views+outliers_val_views\n",
    "low_view = q1views-outliers_val_views\n",
    "\n",
    "high_likes = q3likes+outliers_val_likes\n",
    "low_likes = q1likes-outliers_val_likes\n",
    "\n",
    "high_dislikes = q3dislikes+outliers_val_dislikes\n",
    "low_dislikes = q1dislikes-outliers_val_dislikes"
   ]
  },
  {
   "cell_type": "code",
   "execution_count": 18,
   "id": "004e50f2-b2f8-42c5-8ce0-c3fc0185cf00",
   "metadata": {},
   "outputs": [
    {
     "name": "stdout",
     "output_type": "stream",
     "text": [
      "Outliers for Views is higher than 4194399.0 and lower than -2128913.0\n",
      "Outliers for Likes is higher than 130406.5 and lower than -69565.5\n",
      "Outliers for Dislikes is higher than 4542.0 and lower than -2402.0\n"
     ]
    }
   ],
   "source": [
    "print(\"Outliers for Views is higher than {} and lower than {}\".format(high_view, low_view))\n",
    "print(\"Outliers for Likes is higher than {} and lower than {}\".format(high_likes, low_likes))\n",
    "print(\"Outliers for Dislikes is higher than {} and lower than {}\".format(high_dislikes, low_dislikes))"
   ]
  },
  {
   "cell_type": "markdown",
   "id": "7d767d72-4531-4d5b-bc6f-e449ff333dee",
   "metadata": {},
   "source": [
    "<h1> Visualisasi"
   ]
  },
  {
   "cell_type": "markdown",
   "id": "733aa56f-85de-4a82-aa33-d09059011eba",
   "metadata": {},
   "source": [
    "<h3> Histogram"
   ]
  },
  {
   "cell_type": "code",
   "execution_count": 19,
   "id": "c5d2532e-7581-4f34-a10f-ac3b3bfb038a",
   "metadata": {},
   "outputs": [
    {
     "data": {
      "text/plain": [
       "<bound method NDFrame.describe of           video_id     views   likes  dislikes\n",
       "0      2kyS6SvSYSE    748374   57527      2966\n",
       "1      1ZAPwfrtAFY   2418783   97185      6146\n",
       "2      5qpjK5DgCt4   3191434  146033      5339\n",
       "3      puqaWrEC7tY    343168   10172       666\n",
       "4      d380meD0W0M   2095731  132235      1989\n",
       "...            ...       ...     ...       ...\n",
       "40944  BZt0qjTWNhw   1685609   38160      1385\n",
       "40945  1h7KV2sjUWY   1064798   60008       382\n",
       "40946  D6Oy4LfoqsU   1066451   48068      1032\n",
       "40947  oV0zkMe1K8s   5660813  192957      2846\n",
       "40948  ooyjaVdt-jA  10306119  357079    212976\n",
       "\n",
       "[40949 rows x 4 columns]>"
      ]
     },
     "execution_count": 19,
     "metadata": {},
     "output_type": "execute_result"
    }
   ],
   "source": [
    "stats.describe"
   ]
  },
  {
   "cell_type": "code",
   "execution_count": 33,
   "id": "34b6e0e6-388b-44f2-8afc-61cc49862ea1",
   "metadata": {},
   "outputs": [],
   "source": [
    "n = 40949\n",
    "num_inter_views = (2*iqr_views)/n**(1/3)\n",
    "num_inter_likes = (2*iqr_likes)/n**(1/3)\n",
    "num_inter_dislikes = (2*iqr_dislikes)/n**(1/3)\n",
    "\n",
    "range_views = stats['views'].max() - stats['views'].min()\n",
    "bins_views = range_views / num_inter_views\n",
    "\n",
    "range_likes = stats['likes'].max() - stats['likes'].min()\n",
    "bins_likes = range_likes / num_inter_likes\n",
    "\n",
    "range_dislikes = stats['dislikes'].max() - stats['dislikes'].min()\n",
    "bins_dislikes = range_dislikes / num_inter_dislikes"
   ]
  },
  {
   "cell_type": "code",
   "execution_count": 63,
   "id": "1bcfa31b-69d7-4c1a-807e-ecf43667d087",
   "metadata": {},
   "outputs": [],
   "source": [
    "sns.set(rc={'figure.figsize':(15,5)})"
   ]
  },
  {
   "cell_type": "code",
   "execution_count": 44,
   "id": "bd99fbc9-a1b4-401b-8a53-f9ac9d1d285c",
   "metadata": {},
   "outputs": [
    {
     "data": {
      "image/png": "[encoded data removed]",
      "text/plain": [
       "<Figure size 1080x360 with 1 Axes>"
      ]
     },
     "metadata": {},
     "output_type": "display_data"
    }
   ],
   "source": [
    "#histogram views dengan bin custom\n",
    "mydata = stats[\"views\"]\n",
    "fig = plt.figure()\n",
    "ax = fig.add_subplot(111)\n",
    "n, bins, patches = ax.hist(mydata, weights=np.zeros_like(mydata) + 1. / mydata.size, bins = 500)\n",
    "fig.suptitle('Views', fontsize=20)\n",
    "ax.set_xlabel('Bins-Custom', size=20)\n",
    "ax.set_ylabel('Relative Frequency Views')\n",
    "ax.legend\n",
    "\n",
    "plt.show()"
   ]
  },
  {
   "cell_type": "code",
   "execution_count": 43,
   "id": "197281e8-b79b-445f-8fe9-aa5fa7c9c339",
   "metadata": {},
   "outputs": [
    {
     "data": {
      "image/png": "[encoded data removed]",
      "text/plain": [
       "<Figure size 1080x360 with 1 Axes>"
      ]
     },
     "metadata": {},
     "output_type": "display_data"
    }
   ],
   "source": [
    "#histogram views dengan bins rumus\n",
    "mydata = stats[\"views\"]\n",
    "fig = plt.figure()\n",
    "ax = fig.add_subplot(111)\n",
    "n, bins, patches = ax.hist(mydata, weights=np.zeros_like(mydata) + 1. / mydata.size, bins = round(bins_views), lw=0)\n",
    "fig.suptitle('Views', fontsize=20)\n",
    "ax.set_xlabel('Bins-Formula', size=20)\n",
    "ax.set_ylabel('Relative Frequency Views')\n",
    "ax.legend\n",
    "\n",
    "plt.show()"
   ]
  },
  {
   "cell_type": "code",
   "execution_count": 42,
   "id": "3f324116-c367-4a9b-bd49-bc94e07d9261",
   "metadata": {},
   "outputs": [
    {
     "data": {
      "image/png": "[encoded data removed]",
      "text/plain": [
       "<Figure size 1080x360 with 1 Axes>"
      ]
     },
     "metadata": {},
     "output_type": "display_data"
    }
   ],
   "source": [
    "#histogram likes dengan bin custom\n",
    "mydata = stats[\"likes\"]\n",
    "fig = plt.figure()\n",
    "ax = fig.add_subplot(111)\n",
    "n, bins, patches = ax.hist(mydata, weights=np.zeros_like(mydata) + 1. / mydata.size, bins = 500)\n",
    "fig.suptitle('Likes', fontsize=20)\n",
    "ax.set_xlabel('Bins-Custom', size=20)\n",
    "ax.set_ylabel('Relative Frequency Likes')\n",
    "ax.legend\n",
    "\n",
    "plt.show()"
   ]
  },
  {
   "cell_type": "code",
   "execution_count": 46,
   "id": "6a47bf6b-cc0f-47e6-a436-c0249c5c3bbf",
   "metadata": {},
   "outputs": [
    {
     "data": {
      "image/png": "[encoded data removed]",
      "text/plain": [
       "<Figure size 1080x360 with 1 Axes>"
      ]
     },
     "metadata": {},
     "output_type": "display_data"
    }
   ],
   "source": [
    "#histogram likes dengan bin custom\n",
    "mydata = stats[\"likes\"]\n",
    "fig = plt.figure()\n",
    "ax = fig.add_subplot(111)\n",
    "n, bins, patches = ax.hist(mydata, weights=np.zeros_like(mydata) + 1. / mydata.size, bins = round(bins_likes), lw=0)\n",
    "fig.suptitle('Likes', fontsize=20)\n",
    "ax.set_xlabel('Bins-Formula', size=20)\n",
    "ax.set_ylabel('Relative Frequency Likes')\n",
    "ax.legend\n",
    "\n",
    "plt.show()"
   ]
  },
  {
   "cell_type": "code",
   "execution_count": 64,
   "id": "8d556cc3-ab7c-4672-a32a-4fcd9466fe5b",
   "metadata": {},
   "outputs": [
    {
     "data": {
      "image/png": "[encoded data removed]",
      "text/plain": [
       "<Figure size 1080x360 with 1 Axes>"
      ]
     },
     "metadata": {},
     "output_type": "display_data"
    }
   ],
   "source": [
    "mydata = stats[\"dislikes\"]\n",
    "fig = plt.figure()\n",
    "ax = fig.add_subplot(111)\n",
    "n, bins, patches = ax.hist(mydata, weights=np.zeros_like(mydata) + 1. / mydata.size, bins = 500)\n",
    "fig.suptitle('Dislikes', fontsize=20)\n",
    "ax.set_xlabel('Bins-Custom', size=20)\n",
    "ax.set_ylabel('Relative Frequency Dislikes')\n",
    "ax.legend\n",
    "\n",
    "plt.show()"
   ]
  },
  {
   "cell_type": "code",
   "execution_count": 65,
   "id": "2d618c27-1d71-40e3-bf34-68be0e2c2554",
   "metadata": {},
   "outputs": [
    {
     "data": {
      "image/png": "[encoded data removed]",
      "text/plain": [
       "<Figure size 1080x360 with 1 Axes>"
      ]
     },
     "metadata": {},
     "output_type": "display_data"
    }
   ],
   "source": [
    "mydata = stats[\"dislikes\"]\n",
    "fig = plt.figure()\n",
    "ax = fig.add_subplot(111)\n",
    "n, bins, patches = ax.hist(mydata, weights=np.zeros_like(mydata) + 1. / mydata.size, bins = round(bins_dislikes), lw=0)\n",
    "fig.suptitle('Dislikes', fontsize=20)\n",
    "ax.set_xlabel('Bins-Formula', size=20)\n",
    "ax.set_ylabel('Relative Frequency Dislikes')\n",
    "ax.legend\n",
    "\n",
    "plt.show()"
   ]
  },
  {
   "cell_type": "markdown",
   "id": "d60ac80d-2996-44e5-9671-d0e4c50fe727",
   "metadata": {},
   "source": [
    "<h3> Box and Plot"
   ]
  },
  {
   "cell_type": "code",
   "execution_count": 51,
   "id": "b8d9cbbf-fd3d-432a-a70f-f311deee43cf",
   "metadata": {},
   "outputs": [],
   "source": [
    "sns.set(rc={'figure.figsize':(5,15)})"
   ]
  },
  {
   "cell_type": "code",
   "execution_count": 52,
   "id": "0a75bf6d-e948-4855-a6d1-998d9b35d0bb",
   "metadata": {},
   "outputs": [
    {
     "data": {
      "image/png": "[encoded data removed]",
      "text/plain": [
       "<Figure size 360x1080 with 1 Axes>"
      ]
     },
     "metadata": {},
     "output_type": "display_data"
    }
   ],
   "source": [
    "sns.boxplot(y=stats[\"views\"]);\n",
    "plt.show()"
   ]
  },
  {
   "cell_type": "code",
   "execution_count": 53,
   "id": "3bc755b6-f6dd-4267-8dac-8b77950057f2",
   "metadata": {},
   "outputs": [
    {
     "data": {
      "image/png": "[encoded data removed]",
      "text/plain": [
       "<Figure size 360x1080 with 1 Axes>"
      ]
     },
     "metadata": {},
     "output_type": "display_data"
    }
   ],
   "source": [
    "sns.boxplot(y=stats[\"likes\"]);\n",
    "plt.show()"
   ]
  },
  {
   "cell_type": "code",
   "execution_count": 54,
   "id": "46068baf-d81c-4d28-a13d-89150b1e48b6",
   "metadata": {},
   "outputs": [
    {
     "data": {
      "image/png": "[encoded data removed]",
      "text/plain": [
       "<Figure size 360x1080 with 1 Axes>"
      ]
     },
     "metadata": {},
     "output_type": "display_data"
    }
   ],
   "source": [
    "sns.boxplot(y=stats[\"dislikes\"]);\n",
    "plt.show()"
   ]
  },
  {
   "cell_type": "markdown",
   "id": "e14e6540-1ea3-44b6-bcdf-de6f1e0046ff",
   "metadata": {},
   "source": [
    "<h1> Pertanyaan diskusi"
   ]
  },
  {
   "cell_type": "markdown",
   "id": "d97d5f6c-1070-4d12-b4b9-6e36049000b9",
   "metadata": {},
   "source": [
    "<h1> A"
   ]
  },
  {
   "cell_type": "code",
   "execution_count": 55,
   "id": "77756c25-e3b1-44da-aa30-4db90953a97a",
   "metadata": {},
   "outputs": [],
   "source": [
    "views = stats[\"views\"]"
   ]
  },
  {
   "cell_type": "code",
   "execution_count": 56,
   "id": "1a7909c7-44ac-42e4-88ab-c9f06339ab3d",
   "metadata": {},
   "outputs": [],
   "source": [
    "val = views[views > 100000000].count()"
   ]
  },
  {
   "cell_type": "code",
   "execution_count": 57,
   "id": "53348894-4d75-4129-8ad5-21926308cc76",
   "metadata": {},
   "outputs": [],
   "source": [
    "n = views.size\n",
    "prob_of_large_view = val / n"
   ]
  },
  {
   "cell_type": "code",
   "execution_count": 58,
   "id": "c09ff464-a4a1-4cfe-bcc1-afdfe48f17be",
   "metadata": {},
   "outputs": [
    {
     "data": {
      "text/plain": [
       "0.000976824830887201"
      ]
     },
     "execution_count": 58,
     "metadata": {},
     "output_type": "execute_result"
    }
   ],
   "source": [
    "prob_of_large_view"
   ]
  },
  {
   "cell_type": "markdown",
   "id": "55f621bf-9a8e-4f6a-914c-48640754c1a9",
   "metadata": {},
   "source": [
    "<h1> B"
   ]
  },
  {
   "cell_type": "markdown",
   "id": "0f10f128-cdca-4dc5-be3d-fe7257306160",
   "metadata": {},
   "source": [
    "Untuk mendapatkan video favorit dengan percentil 0.1%, maka kita harus memilih persentil ke 99.9"
   ]
  },
  {
   "cell_type": "code",
   "execution_count": 59,
   "id": "769e2fd1-2b1b-4391-83c2-441c88c12652",
   "metadata": {},
   "outputs": [],
   "source": [
    "res = np.percentile(stats['likes'], 99.9)"
   ]
  },
  {
   "cell_type": "code",
   "execution_count": 60,
   "id": "97974bea-0792-4417-8c20-f26ab568ab2f",
   "metadata": {},
   "outputs": [
    {
     "name": "stdout",
     "output_type": "stream",
     "text": [
      "Minimal like yang diperlukan untuk mencapai video favorit adalah: 2836084.652000136\n"
     ]
    }
   ],
   "source": [
    "print(\"Minimal like yang diperlukan untuk mencapai video favorit adalah: {}\".format(res))"
   ]
  },
  {
   "cell_type": "markdown",
   "id": "3706a750-70bf-42dd-a086-19327a98a6e3",
   "metadata": {},
   "source": [
    "<h1> C"
   ]
  },
  {
   "cell_type": "code",
   "execution_count": 61,
   "id": "6410a42f-cffe-42c9-950c-5d67402df960",
   "metadata": {},
   "outputs": [
    {
     "data": {
      "text/plain": [
       "20.010423195359888"
      ]
     },
     "execution_count": 61,
     "metadata": {},
     "output_type": "execute_result"
    }
   ],
   "source": [
    "ratio = mean_likes/mean_dislikes\n",
    "ratio"
   ]
  },
  {
   "cell_type": "markdown",
   "id": "7289e70b-34f2-457c-8612-b425d9f6dadf",
   "metadata": {},
   "source": [
    "Menggunakan rata-rata likes dan dislikes, kita secara sederhana menentukan bahwa minimal likes harus 20x lebih banyak dari dislikes untuk video yang bagus."
   ]
  },
  {
   "cell_type": "code",
   "execution_count": null,
   "id": "58bb3486-fc4f-4289-95b5-09457360a145",
   "metadata": {},
   "outputs": [],
   "source": []
  }
 ],
 "metadata": {
  "kernelspec": {
   "display_name": "Python (tf-gpu)",
   "language": "python",
   "name": "tf-gpu"
  },
  "language_info": {
   "codemirror_mode": {
    "name": "ipython",
    "version": 3
   },
   "file_extension": ".py",
   "mimetype": "text/x-python",
   "name": "python",
   "nbconvert_exporter": "python",
   "pygments_lexer": "ipython3",
   "version": "3.8.5"
  }
 },
 "nbformat": 4,
 "nbformat_minor": 5
}
