{
 "cells": [
  {
   "cell_type": "code",
   "execution_count": 1,
   "metadata": {},
   "outputs": [],
   "source": [
    "import pandas as pd\n",
    "import numpy as np\n",
    "from scipy.stats import *\n",
    "import seaborn as sns\n",
    "import matplotlib.pyplot as plt"
   ]
  },
  {
   "cell_type": "code",
   "execution_count": 2,
   "metadata": {},
   "outputs": [
    {
     "data": {
      "text/html": [
       "<div>\n",
       "<style scoped>\n",
       "    .dataframe tbody tr th:only-of-type {\n",
       "        vertical-align: middle;\n",
       "    }\n",
       "\n",
       "    .dataframe tbody tr th {\n",
       "        vertical-align: top;\n",
       "    }\n",
       "\n",
       "    .dataframe thead th {\n",
       "        text-align: right;\n",
       "    }\n",
       "</style>\n",
       "<table border=\"1\" class=\"dataframe\">\n",
       "  <thead>\n",
       "    <tr style=\"text-align: right;\">\n",
       "      <th></th>\n",
       "      <th>State</th>\n",
       "      <th>CMS Certification Number (CCN)*</th>\n",
       "      <th>Provider Name</th>\n",
       "      <th>Address</th>\n",
       "      <th>City</th>\n",
       "      <th>Zip</th>\n",
       "      <th>Phone</th>\n",
       "      <th>Type of Ownership</th>\n",
       "      <th>Offers Nursing Care Services</th>\n",
       "      <th>Offers Physical Therapy Services</th>\n",
       "      <th>...</th>\n",
       "      <th>Footnote for how often patients got better at taking their drugs correctly by mouth</th>\n",
       "      <th>How often home health patients had to be admitted to the hospital</th>\n",
       "      <th>Footnote for how often home health patients had to be admitted to the hospital</th>\n",
       "      <th>How often patients receiving home health care needed urgent, unplanned care in the ER without being admitted</th>\n",
       "      <th>Footnote for how often patients receiving home health care needed urgent, unplanned care in the ER without being admitted</th>\n",
       "      <th>How often home health patients, who have had a recent hospital stay, had to be re-admitted to the hospital</th>\n",
       "      <th>Footnote for how often home health patients, who have had a recent hospital stay, had to be re-admitted to the hospital</th>\n",
       "      <th>How often home health patients, who have had a recent hospital stay, received care in the hospital emergency room without being re-admitted to the hospital</th>\n",
       "      <th>Footnote for how often home health patients, who have had a recent hospital stay, received care in the hospital emergency room without being re-admitted to the hospital</th>\n",
       "      <th>Footnote</th>\n",
       "    </tr>\n",
       "  </thead>\n",
       "  <tbody>\n",
       "    <tr>\n",
       "      <th>0</th>\n",
       "      <td>AL</td>\n",
       "      <td>17000</td>\n",
       "      <td>BUREAU OF HOME &amp; COMMUNITY SERVICES</td>\n",
       "      <td>201 MONROE STREET, THE RSA TOWER,  SUITE 1200</td>\n",
       "      <td>MONTGOMERY</td>\n",
       "      <td>36104</td>\n",
       "      <td>3342065341</td>\n",
       "      <td>Government - State/ County</td>\n",
       "      <td>True</td>\n",
       "      <td>True</td>\n",
       "      <td>...</td>\n",
       "      <td>This measure currently does not have data or p...</td>\n",
       "      <td>NaN</td>\n",
       "      <td>This measure currently does not have data or p...</td>\n",
       "      <td>NaN</td>\n",
       "      <td>This measure currently does not have data or p...</td>\n",
       "      <td>Not Available</td>\n",
       "      <td>This measure currently does not have data or p...</td>\n",
       "      <td>Not Available</td>\n",
       "      <td>This measure currently does not have data or p...</td>\n",
       "      <td></td>\n",
       "    </tr>\n",
       "    <tr>\n",
       "      <th>1</th>\n",
       "      <td>AL</td>\n",
       "      <td>17008</td>\n",
       "      <td>JEFFERSON COUNTY HOME CARE</td>\n",
       "      <td>2201 ARLINGTON AVENUE</td>\n",
       "      <td>BESSEMER</td>\n",
       "      <td>35020</td>\n",
       "      <td>2059169500</td>\n",
       "      <td>Government - State/ County</td>\n",
       "      <td>True</td>\n",
       "      <td>True</td>\n",
       "      <td>...</td>\n",
       "      <td>NaN</td>\n",
       "      <td>14.1</td>\n",
       "      <td>NaN</td>\n",
       "      <td>17.1</td>\n",
       "      <td>NaN</td>\n",
       "      <td>Not Available</td>\n",
       "      <td>The number of patient episodes for this measur...</td>\n",
       "      <td>Not Available</td>\n",
       "      <td>The number of patient episodes for this measur...</td>\n",
       "      <td></td>\n",
       "    </tr>\n",
       "    <tr>\n",
       "      <th>2</th>\n",
       "      <td>AL</td>\n",
       "      <td>17009</td>\n",
       "      <td>ALACARE HOME HEALTH &amp; HOSPICE</td>\n",
       "      <td>2970 LORNA ROAD</td>\n",
       "      <td>BIRMINGHAM</td>\n",
       "      <td>35216</td>\n",
       "      <td>2058242680</td>\n",
       "      <td>Proprietary</td>\n",
       "      <td>True</td>\n",
       "      <td>True</td>\n",
       "      <td>...</td>\n",
       "      <td>NaN</td>\n",
       "      <td>18.8</td>\n",
       "      <td>NaN</td>\n",
       "      <td>10.5</td>\n",
       "      <td>NaN</td>\n",
       "      <td>Worse Than Expected</td>\n",
       "      <td>NaN</td>\n",
       "      <td>Worse Than Expected</td>\n",
       "      <td>NaN</td>\n",
       "      <td></td>\n",
       "    </tr>\n",
       "    <tr>\n",
       "      <th>3</th>\n",
       "      <td>AL</td>\n",
       "      <td>17013</td>\n",
       "      <td>GENTIVA HEALTH SERVICES</td>\n",
       "      <td>1239 RUCKER BLVD</td>\n",
       "      <td>ENTERPRISE</td>\n",
       "      <td>36330</td>\n",
       "      <td>3343470234</td>\n",
       "      <td>Proprietary</td>\n",
       "      <td>True</td>\n",
       "      <td>True</td>\n",
       "      <td>...</td>\n",
       "      <td>NaN</td>\n",
       "      <td>18.7</td>\n",
       "      <td>NaN</td>\n",
       "      <td>14.2</td>\n",
       "      <td>NaN</td>\n",
       "      <td>Worse Than Expected</td>\n",
       "      <td>NaN</td>\n",
       "      <td>Same As Expected</td>\n",
       "      <td>NaN</td>\n",
       "      <td></td>\n",
       "    </tr>\n",
       "    <tr>\n",
       "      <th>4</th>\n",
       "      <td>AL</td>\n",
       "      <td>17014</td>\n",
       "      <td>AMEDISYS HOME HEALTH</td>\n",
       "      <td>68278 MAIN STREET</td>\n",
       "      <td>BLOUNTSVILLE</td>\n",
       "      <td>35031</td>\n",
       "      <td>2054294919</td>\n",
       "      <td>Proprietary</td>\n",
       "      <td>True</td>\n",
       "      <td>True</td>\n",
       "      <td>...</td>\n",
       "      <td>NaN</td>\n",
       "      <td>15.0</td>\n",
       "      <td>NaN</td>\n",
       "      <td>10.8</td>\n",
       "      <td>NaN</td>\n",
       "      <td>Same As Expected</td>\n",
       "      <td>NaN</td>\n",
       "      <td>Same As Expected</td>\n",
       "      <td>NaN</td>\n",
       "      <td></td>\n",
       "    </tr>\n",
       "  </tbody>\n",
       "</table>\n",
       "<p>5 rows × 54 columns</p>\n",
       "</div>"
      ],
      "text/plain": [
       "  State  CMS Certification Number (CCN)*                        Provider Name  \\\n",
       "0    AL                            17000  BUREAU OF HOME & COMMUNITY SERVICES   \n",
       "1    AL                            17008           JEFFERSON COUNTY HOME CARE   \n",
       "2    AL                            17009        ALACARE HOME HEALTH & HOSPICE   \n",
       "3    AL                            17013              GENTIVA HEALTH SERVICES   \n",
       "4    AL                            17014                 AMEDISYS HOME HEALTH   \n",
       "\n",
       "                                         Address          City    Zip  \\\n",
       "0  201 MONROE STREET, THE RSA TOWER,  SUITE 1200    MONTGOMERY  36104   \n",
       "1                          2201 ARLINGTON AVENUE      BESSEMER  35020   \n",
       "2                                2970 LORNA ROAD    BIRMINGHAM  35216   \n",
       "3                               1239 RUCKER BLVD    ENTERPRISE  36330   \n",
       "4                              68278 MAIN STREET  BLOUNTSVILLE  35031   \n",
       "\n",
       "        Phone           Type of Ownership  Offers Nursing Care Services  \\\n",
       "0  3342065341  Government - State/ County                          True   \n",
       "1  2059169500  Government - State/ County                          True   \n",
       "2  2058242680                 Proprietary                          True   \n",
       "3  3343470234                 Proprietary                          True   \n",
       "4  2054294919                 Proprietary                          True   \n",
       "\n",
       "   Offers Physical Therapy Services  ...  \\\n",
       "0                              True  ...   \n",
       "1                              True  ...   \n",
       "2                              True  ...   \n",
       "3                              True  ...   \n",
       "4                              True  ...   \n",
       "\n",
       "   Footnote for how often patients got better at taking their drugs correctly by mouth  \\\n",
       "0  This measure currently does not have data or p...                                     \n",
       "1                                                NaN                                     \n",
       "2                                                NaN                                     \n",
       "3                                                NaN                                     \n",
       "4                                                NaN                                     \n",
       "\n",
       "   How often home health patients had to be admitted to the hospital  \\\n",
       "0                                                NaN                   \n",
       "1                                               14.1                   \n",
       "2                                               18.8                   \n",
       "3                                               18.7                   \n",
       "4                                               15.0                   \n",
       "\n",
       "   Footnote for how often home health patients had to be admitted to the hospital  \\\n",
       "0  This measure currently does not have data or p...                                \n",
       "1                                                NaN                                \n",
       "2                                                NaN                                \n",
       "3                                                NaN                                \n",
       "4                                                NaN                                \n",
       "\n",
       "   How often patients receiving home health care needed urgent, unplanned care in the ER without being admitted  \\\n",
       "0                                                NaN                                                              \n",
       "1                                               17.1                                                              \n",
       "2                                               10.5                                                              \n",
       "3                                               14.2                                                              \n",
       "4                                               10.8                                                              \n",
       "\n",
       "  Footnote for how often patients receiving home health care needed urgent, unplanned care in the ER without being admitted  \\\n",
       "0  This measure currently does not have data or p...                                                                          \n",
       "1                                                NaN                                                                          \n",
       "2                                                NaN                                                                          \n",
       "3                                                NaN                                                                          \n",
       "4                                                NaN                                                                          \n",
       "\n",
       "   How often home health patients, who have had a recent hospital stay, had to be re-admitted to the hospital  \\\n",
       "0                                      Not Available                                                            \n",
       "1                                      Not Available                                                            \n",
       "2                                Worse Than Expected                                                            \n",
       "3                                Worse Than Expected                                                            \n",
       "4                                   Same As Expected                                                            \n",
       "\n",
       "  Footnote for how often home health patients, who have had a recent hospital stay, had to be re-admitted to the hospital  \\\n",
       "0  This measure currently does not have data or p...                                                                        \n",
       "1  The number of patient episodes for this measur...                                                                        \n",
       "2                                                NaN                                                                        \n",
       "3                                                NaN                                                                        \n",
       "4                                                NaN                                                                        \n",
       "\n",
       "   How often home health patients, who have had a recent hospital stay, received care in the hospital emergency room without being re-admitted to the hospital  \\\n",
       "0                                      Not Available                                                                                                             \n",
       "1                                      Not Available                                                                                                             \n",
       "2                                Worse Than Expected                                                                                                             \n",
       "3                                   Same As Expected                                                                                                             \n",
       "4                                   Same As Expected                                                                                                             \n",
       "\n",
       "  Footnote for how often home health patients, who have had a recent hospital stay, received care in the hospital emergency room without being re-admitted to the hospital  \\\n",
       "0  This measure currently does not have data or p...                                                                                                                         \n",
       "1  The number of patient episodes for this measur...                                                                                                                         \n",
       "2                                                NaN                                                                                                                         \n",
       "3                                                NaN                                                                                                                         \n",
       "4                                                NaN                                                                                                                         \n",
       "\n",
       "   Footnote  \n",
       "0            \n",
       "1            \n",
       "2            \n",
       "3            \n",
       "4            \n",
       "\n",
       "[5 rows x 54 columns]"
      ]
     },
     "execution_count": 2,
     "metadata": {},
     "output_type": "execute_result"
    }
   ],
   "source": [
    "home_health_care = pd.read_csv(\"Home_Health_Care_Agencies.csv\")\n",
    "home_health_care.head()"
   ]
  },
  {
   "cell_type": "code",
   "execution_count": 3,
   "metadata": {},
   "outputs": [],
   "source": [
    "hhc_required_col = home_health_care.filter(['State','Offers Physical Therapy Services','Offers Occupational Therapy Services', 'Offers Speech Pathology Services'], axis=1)"
   ]
  },
  {
   "cell_type": "code",
   "execution_count": 4,
   "metadata": {},
   "outputs": [
    {
     "data": {
      "text/html": [
       "<div>\n",
       "<style scoped>\n",
       "    .dataframe tbody tr th:only-of-type {\n",
       "        vertical-align: middle;\n",
       "    }\n",
       "\n",
       "    .dataframe tbody tr th {\n",
       "        vertical-align: top;\n",
       "    }\n",
       "\n",
       "    .dataframe thead th {\n",
       "        text-align: right;\n",
       "    }\n",
       "</style>\n",
       "<table border=\"1\" class=\"dataframe\">\n",
       "  <thead>\n",
       "    <tr style=\"text-align: right;\">\n",
       "      <th></th>\n",
       "      <th>State</th>\n",
       "      <th>Offers Physical Therapy Services</th>\n",
       "      <th>Offers Occupational Therapy Services</th>\n",
       "      <th>Offers Speech Pathology Services</th>\n",
       "    </tr>\n",
       "  </thead>\n",
       "  <tbody>\n",
       "    <tr>\n",
       "      <th>0</th>\n",
       "      <td>AL</td>\n",
       "      <td>True</td>\n",
       "      <td>True</td>\n",
       "      <td>True</td>\n",
       "    </tr>\n",
       "    <tr>\n",
       "      <th>1</th>\n",
       "      <td>AL</td>\n",
       "      <td>True</td>\n",
       "      <td>True</td>\n",
       "      <td>True</td>\n",
       "    </tr>\n",
       "    <tr>\n",
       "      <th>2</th>\n",
       "      <td>AL</td>\n",
       "      <td>True</td>\n",
       "      <td>True</td>\n",
       "      <td>True</td>\n",
       "    </tr>\n",
       "    <tr>\n",
       "      <th>3</th>\n",
       "      <td>AL</td>\n",
       "      <td>True</td>\n",
       "      <td>True</td>\n",
       "      <td>False</td>\n",
       "    </tr>\n",
       "    <tr>\n",
       "      <th>4</th>\n",
       "      <td>AL</td>\n",
       "      <td>True</td>\n",
       "      <td>True</td>\n",
       "      <td>True</td>\n",
       "    </tr>\n",
       "  </tbody>\n",
       "</table>\n",
       "</div>"
      ],
      "text/plain": [
       "  State  Offers Physical Therapy Services  \\\n",
       "0    AL                              True   \n",
       "1    AL                              True   \n",
       "2    AL                              True   \n",
       "3    AL                              True   \n",
       "4    AL                              True   \n",
       "\n",
       "   Offers Occupational Therapy Services  Offers Speech Pathology Services  \n",
       "0                                  True                              True  \n",
       "1                                  True                              True  \n",
       "2                                  True                              True  \n",
       "3                                  True                             False  \n",
       "4                                  True                              True  "
      ]
     },
     "execution_count": 4,
     "metadata": {},
     "output_type": "execute_result"
    }
   ],
   "source": [
    "hhc_required_col.head()"
   ]
  },
  {
   "cell_type": "code",
   "execution_count": 5,
   "metadata": {},
   "outputs": [
    {
     "data": {
      "text/html": [
       "<div>\n",
       "<style scoped>\n",
       "    .dataframe tbody tr th:only-of-type {\n",
       "        vertical-align: middle;\n",
       "    }\n",
       "\n",
       "    .dataframe tbody tr th {\n",
       "        vertical-align: top;\n",
       "    }\n",
       "\n",
       "    .dataframe thead th {\n",
       "        text-align: right;\n",
       "    }\n",
       "</style>\n",
       "<table border=\"1\" class=\"dataframe\">\n",
       "  <thead>\n",
       "    <tr style=\"text-align: right;\">\n",
       "      <th></th>\n",
       "      <th>State</th>\n",
       "      <th>Offers Physical Therapy Services</th>\n",
       "      <th>Offers Occupational Therapy Services</th>\n",
       "      <th>Offers Speech Pathology Services</th>\n",
       "    </tr>\n",
       "  </thead>\n",
       "  <tbody>\n",
       "    <tr>\n",
       "      <th>434</th>\n",
       "      <td>CA</td>\n",
       "      <td>True</td>\n",
       "      <td>True</td>\n",
       "      <td>True</td>\n",
       "    </tr>\n",
       "    <tr>\n",
       "      <th>442</th>\n",
       "      <td>CA</td>\n",
       "      <td>True</td>\n",
       "      <td>True</td>\n",
       "      <td>True</td>\n",
       "    </tr>\n",
       "    <tr>\n",
       "      <th>448</th>\n",
       "      <td>CA</td>\n",
       "      <td>True</td>\n",
       "      <td>True</td>\n",
       "      <td>False</td>\n",
       "    </tr>\n",
       "    <tr>\n",
       "      <th>449</th>\n",
       "      <td>CA</td>\n",
       "      <td>True</td>\n",
       "      <td>True</td>\n",
       "      <td>True</td>\n",
       "    </tr>\n",
       "    <tr>\n",
       "      <th>463</th>\n",
       "      <td>CA</td>\n",
       "      <td>True</td>\n",
       "      <td>True</td>\n",
       "      <td>True</td>\n",
       "    </tr>\n",
       "    <tr>\n",
       "      <th>464</th>\n",
       "      <td>CA</td>\n",
       "      <td>True</td>\n",
       "      <td>True</td>\n",
       "      <td>True</td>\n",
       "    </tr>\n",
       "    <tr>\n",
       "      <th>484</th>\n",
       "      <td>CA</td>\n",
       "      <td>True</td>\n",
       "      <td>True</td>\n",
       "      <td>True</td>\n",
       "    </tr>\n",
       "    <tr>\n",
       "      <th>505</th>\n",
       "      <td>CA</td>\n",
       "      <td>True</td>\n",
       "      <td>True</td>\n",
       "      <td>True</td>\n",
       "    </tr>\n",
       "    <tr>\n",
       "      <th>512</th>\n",
       "      <td>CA</td>\n",
       "      <td>True</td>\n",
       "      <td>True</td>\n",
       "      <td>True</td>\n",
       "    </tr>\n",
       "    <tr>\n",
       "      <th>513</th>\n",
       "      <td>CA</td>\n",
       "      <td>True</td>\n",
       "      <td>True</td>\n",
       "      <td>True</td>\n",
       "    </tr>\n",
       "    <tr>\n",
       "      <th>514</th>\n",
       "      <td>CA</td>\n",
       "      <td>True</td>\n",
       "      <td>True</td>\n",
       "      <td>True</td>\n",
       "    </tr>\n",
       "    <tr>\n",
       "      <th>515</th>\n",
       "      <td>CA</td>\n",
       "      <td>True</td>\n",
       "      <td>True</td>\n",
       "      <td>True</td>\n",
       "    </tr>\n",
       "    <tr>\n",
       "      <th>516</th>\n",
       "      <td>CA</td>\n",
       "      <td>True</td>\n",
       "      <td>True</td>\n",
       "      <td>True</td>\n",
       "    </tr>\n",
       "    <tr>\n",
       "      <th>517</th>\n",
       "      <td>CA</td>\n",
       "      <td>True</td>\n",
       "      <td>True</td>\n",
       "      <td>True</td>\n",
       "    </tr>\n",
       "    <tr>\n",
       "      <th>518</th>\n",
       "      <td>CA</td>\n",
       "      <td>True</td>\n",
       "      <td>True</td>\n",
       "      <td>True</td>\n",
       "    </tr>\n",
       "    <tr>\n",
       "      <th>519</th>\n",
       "      <td>CA</td>\n",
       "      <td>True</td>\n",
       "      <td>True</td>\n",
       "      <td>True</td>\n",
       "    </tr>\n",
       "  </tbody>\n",
       "</table>\n",
       "</div>"
      ],
      "text/plain": [
       "    State  Offers Physical Therapy Services  \\\n",
       "434    CA                              True   \n",
       "442    CA                              True   \n",
       "448    CA                              True   \n",
       "449    CA                              True   \n",
       "463    CA                              True   \n",
       "464    CA                              True   \n",
       "484    CA                              True   \n",
       "505    CA                              True   \n",
       "512    CA                              True   \n",
       "513    CA                              True   \n",
       "514    CA                              True   \n",
       "515    CA                              True   \n",
       "516    CA                              True   \n",
       "517    CA                              True   \n",
       "518    CA                              True   \n",
       "519    CA                              True   \n",
       "\n",
       "     Offers Occupational Therapy Services  Offers Speech Pathology Services  \n",
       "434                                  True                              True  \n",
       "442                                  True                              True  \n",
       "448                                  True                             False  \n",
       "449                                  True                              True  \n",
       "463                                  True                              True  \n",
       "464                                  True                              True  \n",
       "484                                  True                              True  \n",
       "505                                  True                              True  \n",
       "512                                  True                              True  \n",
       "513                                  True                              True  \n",
       "514                                  True                              True  \n",
       "515                                  True                              True  \n",
       "516                                  True                              True  \n",
       "517                                  True                              True  \n",
       "518                                  True                              True  \n",
       "519                                  True                              True  "
      ]
     },
     "execution_count": 5,
     "metadata": {},
     "output_type": "execute_result"
    }
   ],
   "source": [
    "hhc_req_CA_FL = hhc_required_col[hhc_required_col['State'].str.contains('FL|CA')]\n",
    "hhc_req_CA_FL.head(16)"
   ]
  },
  {
   "cell_type": "code",
   "execution_count": 6,
   "metadata": {},
   "outputs": [
    {
     "data": {
      "text/plain": [
       "2397"
      ]
     },
     "execution_count": 6,
     "metadata": {},
     "output_type": "execute_result"
    }
   ],
   "source": [
    "n_CA_FL = hhc_req_CA_FL.shape[0]\n",
    "n_CA_FL"
   ]
  },
  {
   "cell_type": "code",
   "execution_count": 7,
   "metadata": {},
   "outputs": [],
   "source": [
    "def calc_mean(df, state):\n",
    "    mean_physical = df[\"Offers Physical Therapy Services\"].mean()\n",
    "    mean_occupational = df[\"Offers Occupational Therapy Services\"].mean()\n",
    "    mean_speech = df[\"Offers Speech Pathology Services\"].mean()\n",
    "    print(\"Persentase Home Healthcare di {} yang memiliki layanan Physical Therapy = {}%\".format(state, mean_physical * 100))\n",
    "    print(\"Persentase Home Healthcare di {} yang memiliki layanan Occupational Therapy = {}%\".format(state, mean_occupational * 100))\n",
    "    print(\"Persentase Home Healthcare di {} yang memiliki layanan Speech Pathology = {}%\".format(state , mean_speech * 100))"
   ]
  },
  {
   "cell_type": "code",
   "execution_count": 8,
   "metadata": {},
   "outputs": [],
   "source": [
    "def tstudent(n, p, dof, mean, std):\n",
    "    t_value = t.ppf(p, dof)\n",
    "    # p = t.cdf(t_value, dof)\n",
    "    margin_of_error = t_value * std / np.sqrt(n)\n",
    "    \n",
    "    lowbound = mean - margin_of_error\n",
    "    upbound = mean + margin_of_error\n",
    "\n",
    "    return lowbound, upbound, t_value"
   ]
  },
  {
   "cell_type": "markdown",
   "metadata": {},
   "source": [
    "<h2> Dataframe California dan Florida"
   ]
  },
  {
   "cell_type": "markdown",
   "metadata": {},
   "source": [
    "<h2> Menghitung Rataan dan Standard Deviation Florida dan California"
   ]
  },
  {
   "cell_type": "code",
   "execution_count": 9,
   "metadata": {},
   "outputs": [
    {
     "name": "stderr",
     "output_type": "stream",
     "text": [
      "E:\\Anaconda\\envs\\tf-gpu\\lib\\site-packages\\pandas\\core\\frame.py:4524: SettingWithCopyWarning: \n",
      "A value is trying to be set on a copy of a slice from a DataFrame\n",
      "\n",
      "See the caveats in the documentation: https://pandas.pydata.org/pandas-docs/stable/user_guide/indexing.html#returning-a-view-versus-a-copy\n",
      "  return super().replace(\n",
      "<ipython-input-9-09bf7e3b94d8>:2: SettingWithCopyWarning: \n",
      "A value is trying to be set on a copy of a slice from a DataFrame.\n",
      "Try using .loc[row_indexer,col_indexer] = value instead\n",
      "\n",
      "See the caveats in the documentation: https://pandas.pydata.org/pandas-docs/stable/user_guide/indexing.html#returning-a-view-versus-a-copy\n",
      "  hhc_req_CA_FL[\"Total services points\"] = hhc_req_CA_FL[\"Offers Physical Therapy Services\"] + hhc_req_CA_FL[\"Offers Occupational Therapy Services\"] + hhc_req_CA_FL[\"Offers Speech Pathology Services\"]\n"
     ]
    },
    {
     "data": {
      "text/html": [
       "<div>\n",
       "<style scoped>\n",
       "    .dataframe tbody tr th:only-of-type {\n",
       "        vertical-align: middle;\n",
       "    }\n",
       "\n",
       "    .dataframe tbody tr th {\n",
       "        vertical-align: top;\n",
       "    }\n",
       "\n",
       "    .dataframe thead th {\n",
       "        text-align: right;\n",
       "    }\n",
       "</style>\n",
       "<table border=\"1\" class=\"dataframe\">\n",
       "  <thead>\n",
       "    <tr style=\"text-align: right;\">\n",
       "      <th></th>\n",
       "      <th>State</th>\n",
       "      <th>Offers Physical Therapy Services</th>\n",
       "      <th>Offers Occupational Therapy Services</th>\n",
       "      <th>Offers Speech Pathology Services</th>\n",
       "      <th>Total services points</th>\n",
       "    </tr>\n",
       "  </thead>\n",
       "  <tbody>\n",
       "    <tr>\n",
       "      <th>434</th>\n",
       "      <td>CA</td>\n",
       "      <td>1</td>\n",
       "      <td>1</td>\n",
       "      <td>1</td>\n",
       "      <td>3</td>\n",
       "    </tr>\n",
       "    <tr>\n",
       "      <th>442</th>\n",
       "      <td>CA</td>\n",
       "      <td>1</td>\n",
       "      <td>1</td>\n",
       "      <td>1</td>\n",
       "      <td>3</td>\n",
       "    </tr>\n",
       "    <tr>\n",
       "      <th>448</th>\n",
       "      <td>CA</td>\n",
       "      <td>1</td>\n",
       "      <td>1</td>\n",
       "      <td>0</td>\n",
       "      <td>2</td>\n",
       "    </tr>\n",
       "    <tr>\n",
       "      <th>449</th>\n",
       "      <td>CA</td>\n",
       "      <td>1</td>\n",
       "      <td>1</td>\n",
       "      <td>1</td>\n",
       "      <td>3</td>\n",
       "    </tr>\n",
       "    <tr>\n",
       "      <th>463</th>\n",
       "      <td>CA</td>\n",
       "      <td>1</td>\n",
       "      <td>1</td>\n",
       "      <td>1</td>\n",
       "      <td>3</td>\n",
       "    </tr>\n",
       "  </tbody>\n",
       "</table>\n",
       "</div>"
      ],
      "text/plain": [
       "    State  Offers Physical Therapy Services  \\\n",
       "434    CA                                 1   \n",
       "442    CA                                 1   \n",
       "448    CA                                 1   \n",
       "449    CA                                 1   \n",
       "463    CA                                 1   \n",
       "\n",
       "     Offers Occupational Therapy Services  Offers Speech Pathology Services  \\\n",
       "434                                     1                                 1   \n",
       "442                                     1                                 1   \n",
       "448                                     1                                 0   \n",
       "449                                     1                                 1   \n",
       "463                                     1                                 1   \n",
       "\n",
       "     Total services points  \n",
       "434                      3  \n",
       "442                      3  \n",
       "448                      2  \n",
       "449                      3  \n",
       "463                      3  "
      ]
     },
     "execution_count": 9,
     "metadata": {},
     "output_type": "execute_result"
    }
   ],
   "source": [
    "hhc_req_CA_FL.replace({False:0, True:1}, inplace = True)\n",
    "hhc_req_CA_FL[\"Total services points\"] = hhc_req_CA_FL[\"Offers Physical Therapy Services\"] + hhc_req_CA_FL[\"Offers Occupational Therapy Services\"] + hhc_req_CA_FL[\"Offers Speech Pathology Services\"]\n",
    "hhc_req_CA_FL.head()"
   ]
  },
  {
   "cell_type": "code",
   "execution_count": 10,
   "metadata": {},
   "outputs": [
    {
     "data": {
      "text/html": [
       "<div>\n",
       "<style scoped>\n",
       "    .dataframe tbody tr th:only-of-type {\n",
       "        vertical-align: middle;\n",
       "    }\n",
       "\n",
       "    .dataframe tbody tr th {\n",
       "        vertical-align: top;\n",
       "    }\n",
       "\n",
       "    .dataframe thead th {\n",
       "        text-align: right;\n",
       "    }\n",
       "</style>\n",
       "<table border=\"1\" class=\"dataframe\">\n",
       "  <thead>\n",
       "    <tr style=\"text-align: right;\">\n",
       "      <th></th>\n",
       "      <th>Total services points</th>\n",
       "    </tr>\n",
       "  </thead>\n",
       "  <tbody>\n",
       "    <tr>\n",
       "      <th>434</th>\n",
       "      <td>1</td>\n",
       "    </tr>\n",
       "    <tr>\n",
       "      <th>442</th>\n",
       "      <td>1</td>\n",
       "    </tr>\n",
       "    <tr>\n",
       "      <th>448</th>\n",
       "      <td>0</td>\n",
       "    </tr>\n",
       "    <tr>\n",
       "      <th>449</th>\n",
       "      <td>1</td>\n",
       "    </tr>\n",
       "    <tr>\n",
       "      <th>463</th>\n",
       "      <td>1</td>\n",
       "    </tr>\n",
       "    <tr>\n",
       "      <th>464</th>\n",
       "      <td>1</td>\n",
       "    </tr>\n",
       "    <tr>\n",
       "      <th>484</th>\n",
       "      <td>1</td>\n",
       "    </tr>\n",
       "    <tr>\n",
       "      <th>505</th>\n",
       "      <td>1</td>\n",
       "    </tr>\n",
       "    <tr>\n",
       "      <th>512</th>\n",
       "      <td>1</td>\n",
       "    </tr>\n",
       "    <tr>\n",
       "      <th>513</th>\n",
       "      <td>1</td>\n",
       "    </tr>\n",
       "  </tbody>\n",
       "</table>\n",
       "</div>"
      ],
      "text/plain": [
       "     Total services points\n",
       "434                      1\n",
       "442                      1\n",
       "448                      0\n",
       "449                      1\n",
       "463                      1\n",
       "464                      1\n",
       "484                      1\n",
       "505                      1\n",
       "512                      1\n",
       "513                      1"
      ]
     },
     "execution_count": 10,
     "metadata": {},
     "output_type": "execute_result"
    }
   ],
   "source": [
    "hhc_CA_FL_allservice = hhc_req_CA_FL.filter([\"Total services points\"], axis = 1)\n",
    "hhc_CA_FL_allservice.replace({1:0, 2:0, 3:1}, inplace = True)\n",
    "hhc_CA_FL_allservice.head(10)"
   ]
  },
  {
   "cell_type": "code",
   "execution_count": 11,
   "metadata": {},
   "outputs": [
    {
     "name": "stdout",
     "output_type": "stream",
     "text": [
      "Persentase Home Healthcare di California dan Florida yang memiliki layanan Physical Therapy = 98.87359198998749%\n",
      "Persentase Home Healthcare di California dan Florida yang memiliki layanan Occupational Therapy = 96.03671255736337%\n",
      "Persentase Home Healthcare di California dan Florida yang memiliki layanan Speech Pathology = 90.02920317062996%\n"
     ]
    }
   ],
   "source": [
    "calc_mean(hhc_req_CA_FL, \"California dan Florida\")"
   ]
  },
  {
   "cell_type": "code",
   "execution_count": 12,
   "metadata": {},
   "outputs": [
    {
     "name": "stdout",
     "output_type": "stream",
     "text": [
      "Persentase Home Healthcare yang memiliki semua layanan di California dan FLorida adalah = 0.8915310805173133%\n"
     ]
    }
   ],
   "source": [
    "p = hhc_CA_FL_allservice.mean()\n",
    "print(\"Persentase Home Healthcare yang memiliki semua layanan di California dan FLorida adalah = {}%\".format(p[0]))"
   ]
  },
  {
   "cell_type": "code",
   "execution_count": 13,
   "metadata": {},
   "outputs": [],
   "source": [
    "# hhc_CA_FL_allservice.std()"
   ]
  },
  {
   "cell_type": "code",
   "execution_count": 14,
   "metadata": {},
   "outputs": [
    {
     "name": "stdout",
     "output_type": "stream",
     "text": [
      "Standar Deviasi Home Healthcare yang memiliki semua layanan di California dan Florida adalah = 15.224916450821706\n"
     ]
    }
   ],
   "source": [
    "std_binom = (p[0]*(1-p[0])*n_CA_FL)**0.5\n",
    "print(\"Standar Deviasi Home Healthcare yang memiliki semua layanan di California dan Florida adalah = {}\".format(std_binom))"
   ]
  },
  {
   "cell_type": "markdown",
   "metadata": {},
   "source": [
    "<h2> Dataframe California"
   ]
  },
  {
   "cell_type": "markdown",
   "metadata": {},
   "source": [
    "<h2> Menghitung Rataan dan Standard Deviation California State"
   ]
  },
  {
   "cell_type": "code",
   "execution_count": 15,
   "metadata": {},
   "outputs": [
    {
     "data": {
      "text/html": [
       "<div>\n",
       "<style scoped>\n",
       "    .dataframe tbody tr th:only-of-type {\n",
       "        vertical-align: middle;\n",
       "    }\n",
       "\n",
       "    .dataframe tbody tr th {\n",
       "        vertical-align: top;\n",
       "    }\n",
       "\n",
       "    .dataframe thead th {\n",
       "        text-align: right;\n",
       "    }\n",
       "</style>\n",
       "<table border=\"1\" class=\"dataframe\">\n",
       "  <thead>\n",
       "    <tr style=\"text-align: right;\">\n",
       "      <th></th>\n",
       "      <th>State</th>\n",
       "      <th>Offers Physical Therapy Services</th>\n",
       "      <th>Offers Occupational Therapy Services</th>\n",
       "      <th>Offers Speech Pathology Services</th>\n",
       "      <th>Total services points</th>\n",
       "    </tr>\n",
       "  </thead>\n",
       "  <tbody>\n",
       "    <tr>\n",
       "      <th>434</th>\n",
       "      <td>CA</td>\n",
       "      <td>1</td>\n",
       "      <td>1</td>\n",
       "      <td>1</td>\n",
       "      <td>3</td>\n",
       "    </tr>\n",
       "    <tr>\n",
       "      <th>442</th>\n",
       "      <td>CA</td>\n",
       "      <td>1</td>\n",
       "      <td>1</td>\n",
       "      <td>1</td>\n",
       "      <td>3</td>\n",
       "    </tr>\n",
       "    <tr>\n",
       "      <th>448</th>\n",
       "      <td>CA</td>\n",
       "      <td>1</td>\n",
       "      <td>1</td>\n",
       "      <td>0</td>\n",
       "      <td>2</td>\n",
       "    </tr>\n",
       "    <tr>\n",
       "      <th>449</th>\n",
       "      <td>CA</td>\n",
       "      <td>1</td>\n",
       "      <td>1</td>\n",
       "      <td>1</td>\n",
       "      <td>3</td>\n",
       "    </tr>\n",
       "    <tr>\n",
       "      <th>463</th>\n",
       "      <td>CA</td>\n",
       "      <td>1</td>\n",
       "      <td>1</td>\n",
       "      <td>1</td>\n",
       "      <td>3</td>\n",
       "    </tr>\n",
       "    <tr>\n",
       "      <th>464</th>\n",
       "      <td>CA</td>\n",
       "      <td>1</td>\n",
       "      <td>1</td>\n",
       "      <td>1</td>\n",
       "      <td>3</td>\n",
       "    </tr>\n",
       "    <tr>\n",
       "      <th>484</th>\n",
       "      <td>CA</td>\n",
       "      <td>1</td>\n",
       "      <td>1</td>\n",
       "      <td>1</td>\n",
       "      <td>3</td>\n",
       "    </tr>\n",
       "    <tr>\n",
       "      <th>505</th>\n",
       "      <td>CA</td>\n",
       "      <td>1</td>\n",
       "      <td>1</td>\n",
       "      <td>1</td>\n",
       "      <td>3</td>\n",
       "    </tr>\n",
       "    <tr>\n",
       "      <th>512</th>\n",
       "      <td>CA</td>\n",
       "      <td>1</td>\n",
       "      <td>1</td>\n",
       "      <td>1</td>\n",
       "      <td>3</td>\n",
       "    </tr>\n",
       "    <tr>\n",
       "      <th>513</th>\n",
       "      <td>CA</td>\n",
       "      <td>1</td>\n",
       "      <td>1</td>\n",
       "      <td>1</td>\n",
       "      <td>3</td>\n",
       "    </tr>\n",
       "    <tr>\n",
       "      <th>514</th>\n",
       "      <td>CA</td>\n",
       "      <td>1</td>\n",
       "      <td>1</td>\n",
       "      <td>1</td>\n",
       "      <td>3</td>\n",
       "    </tr>\n",
       "    <tr>\n",
       "      <th>515</th>\n",
       "      <td>CA</td>\n",
       "      <td>1</td>\n",
       "      <td>1</td>\n",
       "      <td>1</td>\n",
       "      <td>3</td>\n",
       "    </tr>\n",
       "    <tr>\n",
       "      <th>516</th>\n",
       "      <td>CA</td>\n",
       "      <td>1</td>\n",
       "      <td>1</td>\n",
       "      <td>1</td>\n",
       "      <td>3</td>\n",
       "    </tr>\n",
       "    <tr>\n",
       "      <th>517</th>\n",
       "      <td>CA</td>\n",
       "      <td>1</td>\n",
       "      <td>1</td>\n",
       "      <td>1</td>\n",
       "      <td>3</td>\n",
       "    </tr>\n",
       "    <tr>\n",
       "      <th>518</th>\n",
       "      <td>CA</td>\n",
       "      <td>1</td>\n",
       "      <td>1</td>\n",
       "      <td>1</td>\n",
       "      <td>3</td>\n",
       "    </tr>\n",
       "    <tr>\n",
       "      <th>519</th>\n",
       "      <td>CA</td>\n",
       "      <td>1</td>\n",
       "      <td>1</td>\n",
       "      <td>1</td>\n",
       "      <td>3</td>\n",
       "    </tr>\n",
       "  </tbody>\n",
       "</table>\n",
       "</div>"
      ],
      "text/plain": [
       "    State  Offers Physical Therapy Services  \\\n",
       "434    CA                                 1   \n",
       "442    CA                                 1   \n",
       "448    CA                                 1   \n",
       "449    CA                                 1   \n",
       "463    CA                                 1   \n",
       "464    CA                                 1   \n",
       "484    CA                                 1   \n",
       "505    CA                                 1   \n",
       "512    CA                                 1   \n",
       "513    CA                                 1   \n",
       "514    CA                                 1   \n",
       "515    CA                                 1   \n",
       "516    CA                                 1   \n",
       "517    CA                                 1   \n",
       "518    CA                                 1   \n",
       "519    CA                                 1   \n",
       "\n",
       "     Offers Occupational Therapy Services  Offers Speech Pathology Services  \\\n",
       "434                                     1                                 1   \n",
       "442                                     1                                 1   \n",
       "448                                     1                                 0   \n",
       "449                                     1                                 1   \n",
       "463                                     1                                 1   \n",
       "464                                     1                                 1   \n",
       "484                                     1                                 1   \n",
       "505                                     1                                 1   \n",
       "512                                     1                                 1   \n",
       "513                                     1                                 1   \n",
       "514                                     1                                 1   \n",
       "515                                     1                                 1   \n",
       "516                                     1                                 1   \n",
       "517                                     1                                 1   \n",
       "518                                     1                                 1   \n",
       "519                                     1                                 1   \n",
       "\n",
       "     Total services points  \n",
       "434                      3  \n",
       "442                      3  \n",
       "448                      2  \n",
       "449                      3  \n",
       "463                      3  \n",
       "464                      3  \n",
       "484                      3  \n",
       "505                      3  \n",
       "512                      3  \n",
       "513                      3  \n",
       "514                      3  \n",
       "515                      3  \n",
       "516                      3  \n",
       "517                      3  \n",
       "518                      3  \n",
       "519                      3  "
      ]
     },
     "execution_count": 15,
     "metadata": {},
     "output_type": "execute_result"
    }
   ],
   "source": [
    "hhc_req_CA = hhc_req_CA_FL[hhc_req_CA_FL['State'].str.contains('CA')]\n",
    "hhc_req_CA.head(16)"
   ]
  },
  {
   "cell_type": "code",
   "execution_count": 16,
   "metadata": {},
   "outputs": [
    {
     "data": {
      "text/plain": [
       "1314"
      ]
     },
     "execution_count": 16,
     "metadata": {},
     "output_type": "execute_result"
    }
   ],
   "source": [
    "n_CA = hhc_req_CA.shape[0]\n",
    "n_CA\n",
    "# tval = t.ppf(0.95, n_CA-1)\n",
    "# tval"
   ]
  },
  {
   "cell_type": "code",
   "execution_count": 17,
   "metadata": {},
   "outputs": [
    {
     "name": "stdout",
     "output_type": "stream",
     "text": [
      "Persentase Home Healthcare di California yang memiliki layanan Physical Therapy = 98.4779299847793%\n",
      "Persentase Home Healthcare di California yang memiliki layanan Occupational Therapy = 96.34703196347031%\n",
      "Persentase Home Healthcare di California yang memiliki layanan Speech Pathology = 94.82496194824962%\n"
     ]
    }
   ],
   "source": [
    "calc_mean(hhc_req_CA, \"California\")"
   ]
  },
  {
   "cell_type": "code",
   "execution_count": 18,
   "metadata": {},
   "outputs": [],
   "source": [
    "hhc_CA_allservice = hhc_req_CA.filter([\"Total services points\"], axis = 1)\n",
    "hhc_CA_allservice.replace({1:0, 2:0, 3:1}, inplace = True)"
   ]
  },
  {
   "cell_type": "code",
   "execution_count": 19,
   "metadata": {},
   "outputs": [
    {
     "name": "stdout",
     "output_type": "stream",
     "text": [
      "Persentase Home Healthcare yang memiliki semua layanan di California adalah = 0.9398782343987824\n"
     ]
    }
   ],
   "source": [
    "p2 = hhc_CA_allservice.mean()\n",
    "print(\"Persentase Home Healthcare yang memiliki semua layanan di California adalah = {}\".format(p2[0]))"
   ]
  },
  {
   "cell_type": "code",
   "execution_count": 20,
   "metadata": {},
   "outputs": [
    {
     "name": "stdout",
     "output_type": "stream",
     "text": [
      "Standar Deviasi Home Healthcare yang memiliki semua layanan di California adalah = 8.61686604964379\n"
     ]
    }
   ],
   "source": [
    "std_binom2 = (p2[0]*(1-p2[0])*n_CA)**0.5\n",
    "print(\"Standar Deviasi Home Healthcare yang memiliki semua layanan di California adalah = {}\".format(std_binom2))"
   ]
  },
  {
   "cell_type": "markdown",
   "metadata": {},
   "source": [
    "<h2> Dataframe Florida"
   ]
  },
  {
   "cell_type": "markdown",
   "metadata": {},
   "source": [
    "<h2> Menghitung Rataan dan Standard Deviasi Florida state"
   ]
  },
  {
   "cell_type": "code",
   "execution_count": 21,
   "metadata": {},
   "outputs": [
    {
     "data": {
      "text/html": [
       "<div>\n",
       "<style scoped>\n",
       "    .dataframe tbody tr th:only-of-type {\n",
       "        vertical-align: middle;\n",
       "    }\n",
       "\n",
       "    .dataframe tbody tr th {\n",
       "        vertical-align: top;\n",
       "    }\n",
       "\n",
       "    .dataframe thead th {\n",
       "        text-align: right;\n",
       "    }\n",
       "</style>\n",
       "<table border=\"1\" class=\"dataframe\">\n",
       "  <thead>\n",
       "    <tr style=\"text-align: right;\">\n",
       "      <th></th>\n",
       "      <th>State</th>\n",
       "      <th>Offers Physical Therapy Services</th>\n",
       "      <th>Offers Occupational Therapy Services</th>\n",
       "      <th>Offers Speech Pathology Services</th>\n",
       "      <th>Total services points</th>\n",
       "    </tr>\n",
       "  </thead>\n",
       "  <tbody>\n",
       "    <tr>\n",
       "      <th>1317</th>\n",
       "      <td>FL</td>\n",
       "      <td>1</td>\n",
       "      <td>1</td>\n",
       "      <td>1</td>\n",
       "      <td>3</td>\n",
       "    </tr>\n",
       "    <tr>\n",
       "      <th>1377</th>\n",
       "      <td>FL</td>\n",
       "      <td>1</td>\n",
       "      <td>1</td>\n",
       "      <td>1</td>\n",
       "      <td>3</td>\n",
       "    </tr>\n",
       "    <tr>\n",
       "      <th>1387</th>\n",
       "      <td>FL</td>\n",
       "      <td>1</td>\n",
       "      <td>1</td>\n",
       "      <td>1</td>\n",
       "      <td>3</td>\n",
       "    </tr>\n",
       "    <tr>\n",
       "      <th>1616</th>\n",
       "      <td>FL</td>\n",
       "      <td>1</td>\n",
       "      <td>1</td>\n",
       "      <td>1</td>\n",
       "      <td>3</td>\n",
       "    </tr>\n",
       "    <tr>\n",
       "      <th>1650</th>\n",
       "      <td>FL</td>\n",
       "      <td>1</td>\n",
       "      <td>1</td>\n",
       "      <td>1</td>\n",
       "      <td>3</td>\n",
       "    </tr>\n",
       "    <tr>\n",
       "      <th>1918</th>\n",
       "      <td>FL</td>\n",
       "      <td>1</td>\n",
       "      <td>1</td>\n",
       "      <td>1</td>\n",
       "      <td>3</td>\n",
       "    </tr>\n",
       "    <tr>\n",
       "      <th>1982</th>\n",
       "      <td>FL</td>\n",
       "      <td>1</td>\n",
       "      <td>1</td>\n",
       "      <td>1</td>\n",
       "      <td>3</td>\n",
       "    </tr>\n",
       "    <tr>\n",
       "      <th>2004</th>\n",
       "      <td>FL</td>\n",
       "      <td>1</td>\n",
       "      <td>1</td>\n",
       "      <td>1</td>\n",
       "      <td>3</td>\n",
       "    </tr>\n",
       "    <tr>\n",
       "      <th>2011</th>\n",
       "      <td>FL</td>\n",
       "      <td>1</td>\n",
       "      <td>1</td>\n",
       "      <td>1</td>\n",
       "      <td>3</td>\n",
       "    </tr>\n",
       "    <tr>\n",
       "      <th>2012</th>\n",
       "      <td>FL</td>\n",
       "      <td>1</td>\n",
       "      <td>1</td>\n",
       "      <td>1</td>\n",
       "      <td>3</td>\n",
       "    </tr>\n",
       "    <tr>\n",
       "      <th>2017</th>\n",
       "      <td>FL</td>\n",
       "      <td>1</td>\n",
       "      <td>1</td>\n",
       "      <td>1</td>\n",
       "      <td>3</td>\n",
       "    </tr>\n",
       "    <tr>\n",
       "      <th>2019</th>\n",
       "      <td>FL</td>\n",
       "      <td>1</td>\n",
       "      <td>1</td>\n",
       "      <td>1</td>\n",
       "      <td>3</td>\n",
       "    </tr>\n",
       "    <tr>\n",
       "      <th>2020</th>\n",
       "      <td>FL</td>\n",
       "      <td>1</td>\n",
       "      <td>1</td>\n",
       "      <td>1</td>\n",
       "      <td>3</td>\n",
       "    </tr>\n",
       "    <tr>\n",
       "      <th>2021</th>\n",
       "      <td>FL</td>\n",
       "      <td>1</td>\n",
       "      <td>1</td>\n",
       "      <td>1</td>\n",
       "      <td>3</td>\n",
       "    </tr>\n",
       "    <tr>\n",
       "      <th>2022</th>\n",
       "      <td>FL</td>\n",
       "      <td>1</td>\n",
       "      <td>1</td>\n",
       "      <td>0</td>\n",
       "      <td>2</td>\n",
       "    </tr>\n",
       "    <tr>\n",
       "      <th>2023</th>\n",
       "      <td>FL</td>\n",
       "      <td>1</td>\n",
       "      <td>1</td>\n",
       "      <td>1</td>\n",
       "      <td>3</td>\n",
       "    </tr>\n",
       "  </tbody>\n",
       "</table>\n",
       "</div>"
      ],
      "text/plain": [
       "     State  Offers Physical Therapy Services  \\\n",
       "1317    FL                                 1   \n",
       "1377    FL                                 1   \n",
       "1387    FL                                 1   \n",
       "1616    FL                                 1   \n",
       "1650    FL                                 1   \n",
       "1918    FL                                 1   \n",
       "1982    FL                                 1   \n",
       "2004    FL                                 1   \n",
       "2011    FL                                 1   \n",
       "2012    FL                                 1   \n",
       "2017    FL                                 1   \n",
       "2019    FL                                 1   \n",
       "2020    FL                                 1   \n",
       "2021    FL                                 1   \n",
       "2022    FL                                 1   \n",
       "2023    FL                                 1   \n",
       "\n",
       "      Offers Occupational Therapy Services  Offers Speech Pathology Services  \\\n",
       "1317                                     1                                 1   \n",
       "1377                                     1                                 1   \n",
       "1387                                     1                                 1   \n",
       "1616                                     1                                 1   \n",
       "1650                                     1                                 1   \n",
       "1918                                     1                                 1   \n",
       "1982                                     1                                 1   \n",
       "2004                                     1                                 1   \n",
       "2011                                     1                                 1   \n",
       "2012                                     1                                 1   \n",
       "2017                                     1                                 1   \n",
       "2019                                     1                                 1   \n",
       "2020                                     1                                 1   \n",
       "2021                                     1                                 1   \n",
       "2022                                     1                                 0   \n",
       "2023                                     1                                 1   \n",
       "\n",
       "      Total services points  \n",
       "1317                      3  \n",
       "1377                      3  \n",
       "1387                      3  \n",
       "1616                      3  \n",
       "1650                      3  \n",
       "1918                      3  \n",
       "1982                      3  \n",
       "2004                      3  \n",
       "2011                      3  \n",
       "2012                      3  \n",
       "2017                      3  \n",
       "2019                      3  \n",
       "2020                      3  \n",
       "2021                      3  \n",
       "2022                      2  \n",
       "2023                      3  "
      ]
     },
     "execution_count": 21,
     "metadata": {},
     "output_type": "execute_result"
    }
   ],
   "source": [
    "hhc_req_FL = hhc_req_CA_FL[hhc_req_CA_FL['State'].str.contains('FL')]\n",
    "hhc_req_FL.head(16)"
   ]
  },
  {
   "cell_type": "code",
   "execution_count": 22,
   "metadata": {},
   "outputs": [
    {
     "data": {
      "text/plain": [
       "1083"
      ]
     },
     "execution_count": 22,
     "metadata": {},
     "output_type": "execute_result"
    }
   ],
   "source": [
    "n_FL = hhc_req_FL.shape[0]\n",
    "n_FL"
   ]
  },
  {
   "cell_type": "code",
   "execution_count": 23,
   "metadata": {},
   "outputs": [
    {
     "name": "stdout",
     "output_type": "stream",
     "text": [
      "Persentase Home Healthcare di Florida yang memiliki layanan Physical Therapy = 99.35364727608494%\n",
      "Persentase Home Healthcare di Florida yang memiliki layanan Occupational Therapy = 95.66020313942751%\n",
      "Persentase Home Healthcare di Florida yang memiliki layanan Speech Pathology = 84.21052631578947%\n"
     ]
    }
   ],
   "source": [
    "calc_mean(hhc_req_FL, \"Florida\")"
   ]
  },
  {
   "cell_type": "code",
   "execution_count": 24,
   "metadata": {},
   "outputs": [],
   "source": [
    "hhc_FL_allservice = hhc_req_FL.filter([\"Total services points\"], axis = 1)\n",
    "hhc_FL_allservice.replace({1:0, 2:0, 3:1}, inplace = True)"
   ]
  },
  {
   "cell_type": "code",
   "execution_count": 25,
   "metadata": {},
   "outputs": [
    {
     "name": "stdout",
     "output_type": "stream",
     "text": [
      "Persentase Home Healthcare yang memiliki semua layanan di Florida adalah = 0.8328716528162512%\n"
     ]
    }
   ],
   "source": [
    "p3 = hhc_FL_allservice.mean()\n",
    "print(\"Persentase Home Healthcare yang memiliki semua layanan di Florida adalah = {}%\".format(p3[0]))"
   ]
  },
  {
   "cell_type": "code",
   "execution_count": 26,
   "metadata": {},
   "outputs": [
    {
     "name": "stdout",
     "output_type": "stream",
     "text": [
      "Standar Deviasi Home Healthcare yang memiliki semua layanan di FLorida adalah = 12.278019757263035\n"
     ]
    }
   ],
   "source": [
    "std_binom3 = (p3[0]*(1-p3[0])*n_FL)**0.5\n",
    "print(\"Standar Deviasi Home Healthcare yang memiliki semua layanan di FLorida adalah = {}\".format(std_binom3))"
   ]
  },
  {
   "cell_type": "markdown",
   "metadata": {},
   "source": [
    "<h2> Uji Hipotesa bahwa banyak Home Healthcare yang memiliki ketiga layanan di CA dan FL adalah >= 95%"
   ]
  },
  {
   "cell_type": "markdown",
   "metadata": {},
   "source": [
    "Null Hypothesis = Persentasi Home Healthcare di California dan Florida >= 95% <br>\n",
    "Alternative Hypothesis = Persentasi Home Healthcare di California dan Florida < 95%"
   ]
  },
  {
   "cell_type": "code",
   "execution_count": 27,
   "metadata": {},
   "outputs": [],
   "source": [
    "t_acuan = 1.645"
   ]
  },
  {
   "cell_type": "code",
   "execution_count": 28,
   "metadata": {},
   "outputs": [],
   "source": [
    "num_of_healthcare_complete = hhc_CA_FL_allservice.mean()\n",
    "mew_0 = 0.95\n",
    "std = std_binom\n",
    "akar_n = np.sqrt(n_CA_FL)"
   ]
  },
  {
   "cell_type": "code",
   "execution_count": 29,
   "metadata": {},
   "outputs": [
    {
     "data": {
      "text/plain": [
       "0.8915310805173133"
      ]
     },
     "execution_count": 29,
     "metadata": {},
     "output_type": "execute_result"
    }
   ],
   "source": [
    "mean = hhc_CA_FL_allservice.mean()[0]\n",
    "mean"
   ]
  },
  {
   "cell_type": "code",
   "execution_count": 30,
   "metadata": {},
   "outputs": [
    {
     "data": {
      "text/plain": [
       "Total services points    0.891531\n",
       "dtype: float64"
      ]
     },
     "execution_count": 30,
     "metadata": {},
     "output_type": "execute_result"
    }
   ],
   "source": [
    "num_of_healthcare_complete"
   ]
  },
  {
   "cell_type": "code",
   "execution_count": 31,
   "metadata": {},
   "outputs": [
    {
     "data": {
      "text/plain": [
       "15.224916450821706"
      ]
     },
     "execution_count": 31,
     "metadata": {},
     "output_type": "execute_result"
    }
   ],
   "source": [
    "std"
   ]
  },
  {
   "cell_type": "code",
   "execution_count": 32,
   "metadata": {},
   "outputs": [
    {
     "data": {
      "text/plain": [
       "48.95916665957459"
      ]
     },
     "execution_count": 32,
     "metadata": {},
     "output_type": "execute_result"
    }
   ],
   "source": [
    "akar_n"
   ]
  },
  {
   "cell_type": "code",
   "execution_count": 33,
   "metadata": {},
   "outputs": [
    {
     "data": {
      "text/plain": [
       "-0.1880200513812084"
      ]
     },
     "execution_count": 33,
     "metadata": {},
     "output_type": "execute_result"
    }
   ],
   "source": [
    "thasil = (num_of_healthcare_complete - mew_0) / (std/akar_n)\n",
    "thasil[0]"
   ]
  },
  {
   "cell_type": "code",
   "execution_count": 76,
   "metadata": {},
   "outputs": [
    {
     "name": "stdout",
     "output_type": "stream",
     "text": [
      "Null Hypothesis Accepted\n"
     ]
    }
   ],
   "source": [
    "if thasil[0] < -t_acuan:\n",
    "    print(\"Alternative Hypothesis Accepted\")\n",
    "else:\n",
    "    print(\"Null Hypothesis Accepted\")"
   ]
  },
  {
   "cell_type": "code",
   "execution_count": 35,
   "metadata": {},
   "outputs": [
    {
     "data": {
      "text/plain": [
       "(0.3798302690865759, 1.4032318919480509, 1.6454898381609784)"
      ]
     },
     "execution_count": 35,
     "metadata": {},
     "output_type": "execute_result"
    }
   ],
   "source": [
    "lowbound, upbound, t_acuan = tstudent(n_CA_FL, 0.95, n_CA_FL - 1, num_of_healthcare_complete[0], std)\n",
    "lowbound, upbound, t_acuan"
   ]
  },
  {
   "cell_type": "code",
   "execution_count": 36,
   "metadata": {},
   "outputs": [
    {
     "data": {
      "text/plain": [
       "(-1.8335098895421866, 1.4574697867797703)"
      ]
     },
     "execution_count": 36,
     "metadata": {},
     "output_type": "execute_result"
    }
   ],
   "source": [
    "t1 = (lowbound - mew_0) / (std/akar_n)\n",
    "t2 = (upbound - mew_0) / (std/akar_n)\n",
    "t1, t2"
   ]
  },
  {
   "cell_type": "code",
   "execution_count": 37,
   "metadata": {},
   "outputs": [
    {
     "data": {
      "text/plain": [
       "<AxesSubplot:xlabel='Total services points', ylabel='Density'>"
      ]
     },
     "execution_count": 37,
     "metadata": {},
     "output_type": "execute_result"
    },
    {
     "data": {
      "image/png": "[encoded data removed]",
      "text/plain": [
       "<Figure size 432x288 with 1 Axes>"
      ]
     },
     "metadata": {
      "needs_background": "light"
     },
     "output_type": "display_data"
    }
   ],
   "source": [
    "sns.kdeplot(hhc_req_CA_FL[\"Total services points\"])"
   ]
  },
  {
   "cell_type": "code",
   "execution_count": 73,
   "metadata": {},
   "outputs": [],
   "source": [
    "def draw_t_score(x, cond, mu, sigma, title, pos1, pos2, tex1, tex2, result):\n",
    "    fig, ax = plt.subplots()\n",
    "    y = norm.pdf(x, mu, sigma)\n",
    "    t = x[cond]\n",
    "    plt.plot(x, y)\n",
    "    plt.fill_between(t, 0, norm.pdf(t, mu, sigma))\n",
    "    plt.title(title)\n",
    "    ax.annotate('Rejected Region', xy=(pos1, pos2), xytext=(tex1, tex2),\n",
    "                   arrowprops=dict(facecolor='black', shrink=0.05))\n",
    "    plt.axvline(x=result, color='g', label='t hasil')\n",
    "    plt.legend()\n",
    "    plt.show()"
   ]
  },
  {
   "cell_type": "code",
   "execution_count": 78,
   "metadata": {},
   "outputs": [
    {
     "data": {
      "image/png": "[encoded data removed]",
      "text/plain": [
       "<Figure size 432x288 with 1 Axes>"
      ]
     },
     "metadata": {
      "needs_background": "light"
     },
     "output_type": "display_data"
    }
   ],
   "source": [
    "x = np.linspace(0 - 3, 0 + 3, 100)\n",
    "draw_t_score(x, x<-t_acuan, 0, 1, \"t<-1.645 = Null Ditolak\", -2, 0.05, -2.5, 0.35, thasil[0])"
   ]
  },
  {
   "cell_type": "markdown",
   "metadata": {},
   "source": [
    "<h2> Uji Hipotesa bahwa persentase Home Healthcare yang menyediakan 3 layanan di CA lebih besar secara signifikan dibanding FL"
   ]
  },
  {
   "cell_type": "markdown",
   "metadata": {},
   "source": [
    "Null Hypothesis = Persentase Home Healthcare dengan 3 layanan di California >= 95% Home Healthcare di Florida <br>\n",
    "Alternative Hypothesis = Persentase Home Healthcare dengan 3 layaan di California < dari Florida"
   ]
  },
  {
   "cell_type": "code",
   "execution_count": 40,
   "metadata": {},
   "outputs": [],
   "source": [
    "n1 = n_CA\n",
    "x1 = p2[0]\n",
    "s1 = std_binom2"
   ]
  },
  {
   "cell_type": "code",
   "execution_count": 41,
   "metadata": {},
   "outputs": [],
   "source": [
    "n2 = n_FL\n",
    "x2 = p3[0]\n",
    "s2 = std_binom3"
   ]
  },
  {
   "cell_type": "code",
   "execution_count": 42,
   "metadata": {},
   "outputs": [
    {
     "data": {
      "text/plain": [
       "1883.0639969656168"
      ]
     },
     "execution_count": 42,
     "metadata": {},
     "output_type": "execute_result"
    }
   ],
   "source": [
    "a = (s1**2/n1)\n",
    "b = (s2**2/n2)\n",
    "c = (a**2)/(n1-1)\n",
    "d = (b**2)/(n2-1)\n",
    "dof = (a+b)**2/(c+d)\n",
    "dof"
   ]
  },
  {
   "cell_type": "code",
   "execution_count": 43,
   "metadata": {},
   "outputs": [],
   "source": [
    "tacuan = 1.962"
   ]
  },
  {
   "cell_type": "code",
   "execution_count": 44,
   "metadata": {},
   "outputs": [
    {
     "data": {
      "text/plain": [
       "0.2418861940650923"
      ]
     },
     "execution_count": 44,
     "metadata": {},
     "output_type": "execute_result"
    }
   ],
   "source": [
    "t_two_pop = ((x1-x2))/np.sqrt(a+b)\n",
    "t_two_pop"
   ]
  },
  {
   "cell_type": "code",
   "execution_count": 45,
   "metadata": {},
   "outputs": [
    {
     "name": "stdout",
     "output_type": "stream",
     "text": [
      "Null Hypothesis Accepted\n"
     ]
    }
   ],
   "source": [
    "if t_two_pop < -tacuan:\n",
    "    print(\"Alternative Hypothesis Accepted\")\n",
    "else:\n",
    "    print(\"Null Hypothesis Accepted\")"
   ]
  },
  {
   "cell_type": "code",
   "execution_count": 46,
   "metadata": {},
   "outputs": [
    {
     "data": {
      "text/plain": [
       "<AxesSubplot:xlabel='Total services points', ylabel='Density'>"
      ]
     },
     "execution_count": 46,
     "metadata": {},
     "output_type": "execute_result"
    },
    {
     "data": {
      "image/png": "[encoded data removed]",
      "text/plain": [
       "<Figure size 432x288 with 1 Axes>"
      ]
     },
     "metadata": {
      "needs_background": "light"
     },
     "output_type": "display_data"
    }
   ],
   "source": [
    "fig, ax = plt.subplots()\n",
    "sns.kdeplot(hhc_req_CA[\"Total services points\"], ax= ax)\n",
    "sns.kdeplot(hhc_req_FL[\"Total services points\"], ax= ax)"
   ]
  },
  {
   "cell_type": "code",
   "execution_count": 75,
   "metadata": {},
   "outputs": [
    {
     "data": {
      "image/png": "[encoded data removed]",
      "text/plain": [
       "<Figure size 432x288 with 1 Axes>"
      ]
     },
     "metadata": {
      "needs_background": "light"
     },
     "output_type": "display_data"
    }
   ],
   "source": [
    "x = np.linspace(0 - 3, 0 + 3, 100)\n",
    "draw_t_score(x, x<-tacuan, 0, 1, \"t < -1.962 = Null ditolak\", -2.5, 0, -2.5, 0.35, t_two_pop)"
   ]
  },
  {
   "cell_type": "markdown",
   "metadata": {},
   "source": [
    "<h1> Pertanyaan Diskusi"
   ]
  },
  {
   "cell_type": "markdown",
   "metadata": {},
   "source": [
    "<h1> 1"
   ]
  },
  {
   "cell_type": "markdown",
   "metadata": {},
   "source": [
    "Berdasarkan tugas pemograman nomor 2 dimana kita menguji Hipotesa alternatif apakah Home Healthcare di California dan Florida yang memiliki 3 layanan diatas 95%, kita mendapati bahwa Hipotesa alternatif tersebut diterima. <br>\n",
    "Hipotesa Alternatif tetap diterima walaupun rataan yang kita dapatkan mengenai banyaknya Home Heathcare yang memiliki 3 layanan adalah dibawah 95%. Hal ini dapat terjadi karena tingkat kepercayaan adalah 95%. <br>\n",
    "\n",
    "Hal yang perlu diperhatikan Regulator adalah bahwa tidak semua negara bagian yang memiliki rata-rata sampel dibawah 95% memerlukan pendampigan. Perlu dilakukan uji hipotesa terlebih dahulu"
   ]
  },
  {
   "cell_type": "markdown",
   "metadata": {},
   "source": [
    "<h1> 2"
   ]
  },
  {
   "cell_type": "code",
   "execution_count": 48,
   "metadata": {},
   "outputs": [
    {
     "name": "stderr",
     "output_type": "stream",
     "text": [
      "<ipython-input-48-53505f1c2daf>:3: SettingWithCopyWarning: \n",
      "A value is trying to be set on a copy of a slice from a DataFrame.\n",
      "Try using .loc[row_indexer,col_indexer] = value instead\n",
      "\n",
      "See the caveats in the documentation: https://pandas.pydata.org/pandas-docs/stable/user_guide/indexing.html#returning-a-view-versus-a-copy\n",
      "  d2_df[\"State\"] = d2_df_temp[\"State\"].to_numpy().copy()\n"
     ]
    },
    {
     "data": {
      "text/html": [
       "<div>\n",
       "<style scoped>\n",
       "    .dataframe tbody tr th:only-of-type {\n",
       "        vertical-align: middle;\n",
       "    }\n",
       "\n",
       "    .dataframe tbody tr th {\n",
       "        vertical-align: top;\n",
       "    }\n",
       "\n",
       "    .dataframe thead th {\n",
       "        text-align: right;\n",
       "    }\n",
       "</style>\n",
       "<table border=\"1\" class=\"dataframe\">\n",
       "  <thead>\n",
       "    <tr style=\"text-align: right;\">\n",
       "      <th></th>\n",
       "      <th>Offers Nursing Care Services</th>\n",
       "      <th>Offers Physical Therapy Services</th>\n",
       "      <th>Offers Occupational Therapy Services</th>\n",
       "      <th>Offers Speech Pathology Services</th>\n",
       "      <th>Offers Medical Social Services</th>\n",
       "      <th>Offers Home Health Aide Services</th>\n",
       "      <th>State</th>\n",
       "    </tr>\n",
       "  </thead>\n",
       "  <tbody>\n",
       "    <tr>\n",
       "      <th>434</th>\n",
       "      <td>True</td>\n",
       "      <td>True</td>\n",
       "      <td>True</td>\n",
       "      <td>True</td>\n",
       "      <td>True</td>\n",
       "      <td>True</td>\n",
       "      <td>CA</td>\n",
       "    </tr>\n",
       "    <tr>\n",
       "      <th>442</th>\n",
       "      <td>True</td>\n",
       "      <td>True</td>\n",
       "      <td>True</td>\n",
       "      <td>True</td>\n",
       "      <td>True</td>\n",
       "      <td>True</td>\n",
       "      <td>CA</td>\n",
       "    </tr>\n",
       "    <tr>\n",
       "      <th>448</th>\n",
       "      <td>True</td>\n",
       "      <td>True</td>\n",
       "      <td>True</td>\n",
       "      <td>False</td>\n",
       "      <td>True</td>\n",
       "      <td>True</td>\n",
       "      <td>CA</td>\n",
       "    </tr>\n",
       "    <tr>\n",
       "      <th>449</th>\n",
       "      <td>True</td>\n",
       "      <td>True</td>\n",
       "      <td>True</td>\n",
       "      <td>True</td>\n",
       "      <td>True</td>\n",
       "      <td>True</td>\n",
       "      <td>CA</td>\n",
       "    </tr>\n",
       "    <tr>\n",
       "      <th>463</th>\n",
       "      <td>True</td>\n",
       "      <td>True</td>\n",
       "      <td>True</td>\n",
       "      <td>True</td>\n",
       "      <td>True</td>\n",
       "      <td>True</td>\n",
       "      <td>CA</td>\n",
       "    </tr>\n",
       "  </tbody>\n",
       "</table>\n",
       "</div>"
      ],
      "text/plain": [
       "     Offers Nursing Care Services  Offers Physical Therapy Services  \\\n",
       "434                          True                              True   \n",
       "442                          True                              True   \n",
       "448                          True                              True   \n",
       "449                          True                              True   \n",
       "463                          True                              True   \n",
       "\n",
       "     Offers Occupational Therapy Services  Offers Speech Pathology Services  \\\n",
       "434                                  True                              True   \n",
       "442                                  True                              True   \n",
       "448                                  True                             False   \n",
       "449                                  True                              True   \n",
       "463                                  True                              True   \n",
       "\n",
       "     Offers Medical Social Services  Offers Home Health Aide Services State  \n",
       "434                            True                              True    CA  \n",
       "442                            True                              True    CA  \n",
       "448                            True                              True    CA  \n",
       "449                            True                              True    CA  \n",
       "463                            True                              True    CA  "
      ]
     },
     "execution_count": 48,
     "metadata": {},
     "output_type": "execute_result"
    }
   ],
   "source": [
    "d2_df_temp = home_health_care[home_health_care[\"State\"].str.contains('FL|CA')]\n",
    "d2_df = d2_df_temp.filter(like='Services')\n",
    "d2_df[\"State\"] = d2_df_temp[\"State\"].to_numpy().copy()\n",
    "d2_df.head()"
   ]
  },
  {
   "cell_type": "markdown",
   "metadata": {},
   "source": [
    "<h2> Dataframe California"
   ]
  },
  {
   "cell_type": "code",
   "execution_count": 49,
   "metadata": {},
   "outputs": [
    {
     "name": "stderr",
     "output_type": "stream",
     "text": [
      "E:\\Anaconda\\envs\\tf-gpu\\lib\\site-packages\\pandas\\core\\frame.py:4524: SettingWithCopyWarning: \n",
      "A value is trying to be set on a copy of a slice from a DataFrame\n",
      "\n",
      "See the caveats in the documentation: https://pandas.pydata.org/pandas-docs/stable/user_guide/indexing.html#returning-a-view-versus-a-copy\n",
      "  return super().replace(\n",
      "<ipython-input-49-6bf6f368c02b>:3: SettingWithCopyWarning: \n",
      "A value is trying to be set on a copy of a slice from a DataFrame.\n",
      "Try using .loc[row_indexer,col_indexer] = value instead\n",
      "\n",
      "See the caveats in the documentation: https://pandas.pydata.org/pandas-docs/stable/user_guide/indexing.html#returning-a-view-versus-a-copy\n",
      "  d2_df_CA['Total'] = d2_df_CA.iloc[:, 0:6].sum(axis = 1)\n"
     ]
    }
   ],
   "source": [
    "d2_df_CA = d2_df[d2_df[\"State\"].str.contains('CA')]\n",
    "d2_df_CA.replace({False:0, True:1}, inplace = True)\n",
    "d2_df_CA['Total'] = d2_df_CA.iloc[:, 0:6].sum(axis = 1)"
   ]
  },
  {
   "cell_type": "code",
   "execution_count": 50,
   "metadata": {},
   "outputs": [
    {
     "data": {
      "text/html": [
       "<div>\n",
       "<style scoped>\n",
       "    .dataframe tbody tr th:only-of-type {\n",
       "        vertical-align: middle;\n",
       "    }\n",
       "\n",
       "    .dataframe tbody tr th {\n",
       "        vertical-align: top;\n",
       "    }\n",
       "\n",
       "    .dataframe thead th {\n",
       "        text-align: right;\n",
       "    }\n",
       "</style>\n",
       "<table border=\"1\" class=\"dataframe\">\n",
       "  <thead>\n",
       "    <tr style=\"text-align: right;\">\n",
       "      <th></th>\n",
       "      <th>Total</th>\n",
       "    </tr>\n",
       "  </thead>\n",
       "  <tbody>\n",
       "    <tr>\n",
       "      <th>434</th>\n",
       "      <td>1</td>\n",
       "    </tr>\n",
       "    <tr>\n",
       "      <th>442</th>\n",
       "      <td>1</td>\n",
       "    </tr>\n",
       "    <tr>\n",
       "      <th>448</th>\n",
       "      <td>0</td>\n",
       "    </tr>\n",
       "    <tr>\n",
       "      <th>449</th>\n",
       "      <td>1</td>\n",
       "    </tr>\n",
       "    <tr>\n",
       "      <th>463</th>\n",
       "      <td>1</td>\n",
       "    </tr>\n",
       "  </tbody>\n",
       "</table>\n",
       "</div>"
      ],
      "text/plain": [
       "     Total\n",
       "434      1\n",
       "442      1\n",
       "448      0\n",
       "449      1\n",
       "463      1"
      ]
     },
     "execution_count": 50,
     "metadata": {},
     "output_type": "execute_result"
    }
   ],
   "source": [
    "d2_df_CA_total = d2_df_CA.filter([\"Total\"], axis = 1)\n",
    "d2_df_CA_total.replace({1:0, 2:0, 3:0, 4:0, 5:0, 6:1}, inplace = True)\n",
    "d2_df_CA_total.head()"
   ]
  },
  {
   "cell_type": "markdown",
   "metadata": {},
   "source": [
    "<h2> Dataframe Florida"
   ]
  },
  {
   "cell_type": "code",
   "execution_count": 51,
   "metadata": {},
   "outputs": [
    {
     "name": "stderr",
     "output_type": "stream",
     "text": [
      "E:\\Anaconda\\envs\\tf-gpu\\lib\\site-packages\\pandas\\core\\frame.py:4524: SettingWithCopyWarning: \n",
      "A value is trying to be set on a copy of a slice from a DataFrame\n",
      "\n",
      "See the caveats in the documentation: https://pandas.pydata.org/pandas-docs/stable/user_guide/indexing.html#returning-a-view-versus-a-copy\n",
      "  return super().replace(\n",
      "<ipython-input-51-4ccc3247f002>:3: SettingWithCopyWarning: \n",
      "A value is trying to be set on a copy of a slice from a DataFrame.\n",
      "Try using .loc[row_indexer,col_indexer] = value instead\n",
      "\n",
      "See the caveats in the documentation: https://pandas.pydata.org/pandas-docs/stable/user_guide/indexing.html#returning-a-view-versus-a-copy\n",
      "  d2_df_FL['Total'] = d2_df_FL.iloc[:, 0:6].sum(axis = 1)\n"
     ]
    }
   ],
   "source": [
    "d2_df_FL = d2_df[d2_df[\"State\"].str.contains('FL')]\n",
    "d2_df_FL.replace({False:0, True:1}, inplace = True)\n",
    "d2_df_FL['Total'] = d2_df_FL.iloc[:, 0:6].sum(axis = 1)"
   ]
  },
  {
   "cell_type": "code",
   "execution_count": 52,
   "metadata": {},
   "outputs": [
    {
     "data": {
      "text/html": [
       "<div>\n",
       "<style scoped>\n",
       "    .dataframe tbody tr th:only-of-type {\n",
       "        vertical-align: middle;\n",
       "    }\n",
       "\n",
       "    .dataframe tbody tr th {\n",
       "        vertical-align: top;\n",
       "    }\n",
       "\n",
       "    .dataframe thead th {\n",
       "        text-align: right;\n",
       "    }\n",
       "</style>\n",
       "<table border=\"1\" class=\"dataframe\">\n",
       "  <thead>\n",
       "    <tr style=\"text-align: right;\">\n",
       "      <th></th>\n",
       "      <th>Total</th>\n",
       "    </tr>\n",
       "  </thead>\n",
       "  <tbody>\n",
       "    <tr>\n",
       "      <th>1317</th>\n",
       "      <td>1</td>\n",
       "    </tr>\n",
       "    <tr>\n",
       "      <th>1377</th>\n",
       "      <td>1</td>\n",
       "    </tr>\n",
       "    <tr>\n",
       "      <th>1387</th>\n",
       "      <td>1</td>\n",
       "    </tr>\n",
       "    <tr>\n",
       "      <th>1616</th>\n",
       "      <td>1</td>\n",
       "    </tr>\n",
       "    <tr>\n",
       "      <th>1650</th>\n",
       "      <td>1</td>\n",
       "    </tr>\n",
       "  </tbody>\n",
       "</table>\n",
       "</div>"
      ],
      "text/plain": [
       "      Total\n",
       "1317      1\n",
       "1377      1\n",
       "1387      1\n",
       "1616      1\n",
       "1650      1"
      ]
     },
     "execution_count": 52,
     "metadata": {},
     "output_type": "execute_result"
    }
   ],
   "source": [
    "d2_df_FL_total = d2_df_FL.filter([\"Total\"], axis = 1)\n",
    "d2_df_FL_total.replace({1:0, 2:0, 3:0, 4:0, 5:0, 6:1}, inplace = True)\n",
    "d2_df_FL_total.head()"
   ]
  },
  {
   "cell_type": "markdown",
   "metadata": {},
   "source": [
    "<h2> Uji Hipotesa bahwa persentase Home Healthcare yang menyediakan layanan selengkapnya di CA lebih besar secara signifikan dibanding FL"
   ]
  },
  {
   "cell_type": "markdown",
   "metadata": {},
   "source": [
    "Null Hypothesis = Persentase Home Healthcare dengan semua layanan di California >= Home Healthcare di Florida <br>\n",
    "Alternative Hypothesis = Persentase Home Healthcare dengan semua layaan di California < dari Florida"
   ]
  },
  {
   "cell_type": "code",
   "execution_count": 53,
   "metadata": {},
   "outputs": [],
   "source": [
    "nCA = d2_df_CA.shape[0]\n",
    "meanCA = d2_df_CA_total[\"Total\"].mean()\n",
    "stdCA = (meanCA*(1-meanCA)*nCA)**0.5"
   ]
  },
  {
   "cell_type": "code",
   "execution_count": 54,
   "metadata": {},
   "outputs": [
    {
     "data": {
      "text/plain": [
       "9.997906934682952"
      ]
     },
     "execution_count": 54,
     "metadata": {},
     "output_type": "execute_result"
    }
   ],
   "source": [
    "stdCA"
   ]
  },
  {
   "cell_type": "code",
   "execution_count": 55,
   "metadata": {},
   "outputs": [],
   "source": [
    "nFL = d2_df_FL.shape[0]\n",
    "meanFL = d2_df_FL_total[\"Total\"].mean()\n",
    "stdFL = (meanFL*(1-meanFL)*nFL)**0.5"
   ]
  },
  {
   "cell_type": "code",
   "execution_count": 56,
   "metadata": {},
   "outputs": [
    {
     "data": {
      "text/plain": [
       "13.708547858733926"
      ]
     },
     "execution_count": 56,
     "metadata": {},
     "output_type": "execute_result"
    }
   ],
   "source": [
    "stdFL"
   ]
  },
  {
   "cell_type": "code",
   "execution_count": 57,
   "metadata": {},
   "outputs": [
    {
     "data": {
      "text/plain": [
       "1932.5661881481633"
      ]
     },
     "execution_count": 57,
     "metadata": {},
     "output_type": "execute_result"
    }
   ],
   "source": [
    "var1 = (stdCA**2/nCA)\n",
    "var2 = (stdFL**2/nFL)\n",
    "var3 = (var1**2)/(nCA-1)\n",
    "var4 = (var2**2)/(nFL-1)\n",
    "dof = (var1+var2)**2/(var3+var4)\n",
    "dof"
   ]
  },
  {
   "cell_type": "code",
   "execution_count": 58,
   "metadata": {},
   "outputs": [],
   "source": [
    "tacuan2 = 1.962"
   ]
  },
  {
   "cell_type": "code",
   "execution_count": 63,
   "metadata": {},
   "outputs": [
    {
     "data": {
      "text/plain": [
       "0.28122978104666835"
      ]
     },
     "execution_count": 63,
     "metadata": {},
     "output_type": "execute_result"
    }
   ],
   "source": [
    "t_twopop = ((meanCA - meanFL))/np.sqrt(var1+var2)\n",
    "t_twopop"
   ]
  },
  {
   "cell_type": "code",
   "execution_count": 64,
   "metadata": {},
   "outputs": [
    {
     "name": "stdout",
     "output_type": "stream",
     "text": [
      "Null Hypothesis Accepted\n"
     ]
    }
   ],
   "source": [
    "if t_twopop < -tacuan2:\n",
    "    print(\"Alternative Hypothesis Accepted\")\n",
    "else:\n",
    "    print(\"Null Hypothesis Accepted\")"
   ]
  },
  {
   "cell_type": "code",
   "execution_count": 65,
   "metadata": {},
   "outputs": [
    {
     "data": {
      "text/plain": [
       "<AxesSubplot:xlabel='Total', ylabel='Density'>"
      ]
     },
     "execution_count": 65,
     "metadata": {},
     "output_type": "execute_result"
    },
    {
     "data": {
      "image/png": "[encoded data removed]",
      "text/plain": [
       "<Figure size 432x288 with 1 Axes>"
      ]
     },
     "metadata": {
      "needs_background": "light"
     },
     "output_type": "display_data"
    }
   ],
   "source": [
    "fig, ax = plt.subplots()\n",
    "sns.kdeplot(d2_df_CA[\"Total\"], ax= ax)\n",
    "sns.kdeplot(d2_df_FL[\"Total\"], ax= ax)"
   ]
  },
  {
   "cell_type": "code",
   "execution_count": 68,
   "metadata": {},
   "outputs": [
    {
     "data": {
      "image/png": "[encoded data removed]",
      "text/plain": [
       "<Figure size 432x288 with 1 Axes>"
      ]
     },
     "metadata": {
      "needs_background": "light"
     },
     "output_type": "display_data"
    }
   ],
   "source": [
    "x = np.linspace(0 - 3, 0 + 3, 100)\n",
    "draw_t_score(x, x<-tacuan2, 0, 1, \"t < -1.962 = Null Rejected\", -2.5, 0.03, -2.5, 0.35)"
   ]
  },
  {
   "cell_type": "code",
   "execution_count": null,
   "metadata": {},
   "outputs": [],
   "source": []
  }
 ],
 "metadata": {
  "kernelspec": {
   "display_name": "Python (tf-gpu)",
   "language": "python",
   "name": "tf-gpu"
  },
  "language_info": {
   "codemirror_mode": {
    "name": "ipython",
    "version": 3
   },
   "file_extension": ".py",
   "mimetype": "text/x-python",
   "name": "python",
   "nbconvert_exporter": "python",
   "pygments_lexer": "ipython3",
   "version": "3.8.8"
  }
 },
 "nbformat": 4,
 "nbformat_minor": 4
}
